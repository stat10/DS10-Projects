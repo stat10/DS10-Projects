{
  "nbformat": 4,
  "nbformat_minor": 0,
  "metadata": {
    "colab": {
      "name": "DS10 2021 Wine Classification - Part 2 - Students.ipynb",
      "provenance": [],
      "collapsed_sections": [],
      "toc_visible": true,
      "include_colab_link": true
    },
    "kernelspec": {
      "name": "python3",
      "display_name": "Python 3"
    },
    "deepnote_notebook_id": "63b166d5-21b6-4589-a65b-dcd8db9a3437",
    "deepnote": {},
    "deepnote_execution_queue": []
  },
  "cells": [
    {
      "cell_type": "markdown",
      "metadata": {
        "id": "view-in-github",
        "colab_type": "text"
      },
      "source": [
        "<a href=\"https://colab.research.google.com/github/stat10/DS10-Projects/blob/main/DS10_2021_Wine_Classification_Part_2.ipynb\" target=\"_parent\"><img src=\"https://colab.research.google.com/assets/colab-badge.svg\" alt=\"Open In Colab\"/></a>"
      ]
    },
    {
      "cell_type": "markdown",
      "metadata": {
        "id": "2YvDKM1qK_--",
        "cell_id": "00000-a3ca878d-99a2-4f0f-90d0-4784cf369d8a",
        "deepnote_cell_type": "markdown"
      },
      "source": [
        "<a id='top'></a>\n",
        "# DS10 Wine Classification - Part 2\n",
        "Notebook by Rashmi Banthia and Hanspeter Pfister\n",
        "\n",
        "**Make a copy of this notebook before you make any edits.** Add your name and the name of your team and team members in the text cell below. Answer all of the questions inside the notebook using text and code. Add your answers after the **A** in the text cells. Each team will only submit one notebook. \n",
        "\n",
        "In addition to submitting the completed notebook, each team will also submit a PDF with plots and solutions to some of the exercises below. Check the project instructions on Canvas for submission information.\n",
        "\n",
        "This notebook covers the following topics:\n",
        "\n",
        "- Logistic regression, decision tree, SVM, and kNN models \n",
        "- Model Performance Assessment \n",
        "     - Accuracy Score\n",
        "     - Confusion Matrix\n",
        "     - ROC Curve and AUC Score\n",
        "     - Precision-Recall Curve\n",
        "     - F1 Score\n",
        "- Cross-Validation and Grid Search\n",
        "     - SVM - find optimal kernel and parameter C\n",
        "     - kNN - find optimal k\n",
        "     - Decision Tree - find optimal tree depth\n",
        "     - Effects of Optimal Hyperparameters\n",
        "- Advanced Topics\n",
        "     - Feature Importance (Decision Tree Example)\n",
        "     - Visualizing Decision Boundaries\n",
        "     - Balanced vs. Imbalanced Data\n",
        "     - Dealing with Imbalanced Data\n",
        "\n",
        "**Note: The exercises for Effects of Optimal Hyperparameters, Visualizing Decision Boundaries, and Balanced vs. Imbalanced Data at the end will take some time, so please get started early!**"
      ]
    },
    {
      "cell_type": "markdown",
      "metadata": {
        "tags": [],
        "cell_id": "00001-c040047d-0415-482c-b0a1-9319cf6a3f8e",
        "deepnote_cell_type": "markdown",
        "id": "Zo2QgE0njE52"
      },
      "source": [
        "\n",
        "--------\n",
        "**Team Name:**\n",
        "\n",
        "**Team Members:**\n",
        "\n",
        "--------"
      ]
    },
    {
      "cell_type": "code",
      "metadata": {
        "id": "xBnPLWDSK3eT",
        "cell_id": "00001-a92c49d1-4c18-42ee-a923-5d45b7529a79",
        "deepnote_to_be_reexecuted": false,
        "source_hash": "302f41f5",
        "execution_millis": 1,
        "execution_start": 1615167654914,
        "deepnote_cell_type": "code",
        "colab": {
          "base_uri": "https://localhost:8080/"
        },
        "outputId": "aa7fd957-a595-4550-d02b-64bdf0323301"
      },
      "source": [
        "# Pandas is a powerful package that deals with tables (https://pandas.pydata.org)\n",
        "# You will get a proper introduction to Pandas in the labs.\n",
        "import pandas as pd\n",
        "# Of course we will be using Numpy\n",
        "import numpy as np\n",
        "\n",
        "# We are using scikit-learn for machine learning (https://scikit-learn.org/stable/)\n",
        "# Because scikit-learn is a big package it is good practice to only import the modules we need.\n",
        "from sklearn.tree import DecisionTreeClassifier\n",
        "import graphviz \n",
        "from sklearn.tree import export_graphviz\n",
        "\n",
        "from sklearn.ensemble import RandomForestClassifier\n",
        "from sklearn.model_selection import cross_val_score, GridSearchCV\n",
        "from sklearn.metrics import f1_score, confusion_matrix, plot_confusion_matrix\n",
        "from sklearn.metrics import accuracy_score, precision_score,  recall_score, average_precision_score\n",
        "from sklearn.preprocessing import StandardScaler\n",
        "from sklearn.model_selection import train_test_split\n",
        "\n",
        "from sklearn.metrics import precision_recall_curve\n",
        "from sklearn.metrics import plot_precision_recall_curve, roc_auc_score, roc_curve, auc\n",
        "from sklearn.metrics import mean_squared_error\n",
        "\n",
        "from sklearn.svm import SVC \n",
        "from sklearn.neighbors import KNeighborsClassifier\n",
        "from sklearn.linear_model import LogisticRegression \n",
        "\n",
        "# We will be using statsmodels for linear regression (https://www.statsmodels.org/stable/index.html) \n",
        "import statsmodels.api as sm\n",
        "from statsmodels import graphics\n",
        "\n",
        "# Some useful libraries to import data\n",
        "import requests\n",
        "from urllib.request import urlopen\n",
        "from io import BytesIO\n",
        "from zipfile import ZipFile\n",
        "\n",
        "# Libraries for visualizations\n",
        "from matplotlib import pyplot as plt\n",
        "import seaborn as sns\n",
        "# Some settings to make the plots prettier\n",
        "%matplotlib inline\n",
        "sns.set_theme(style=\"ticks\")\n",
        "sns.set_context(\"talk\", font_scale=0.9)\n",
        "sns.set(font_scale = 1)"
      ],
      "execution_count": null,
      "outputs": [
        {
          "output_type": "stream",
          "text": [
            "/usr/local/lib/python3.7/dist-packages/statsmodels/tools/_testing.py:19: FutureWarning: pandas.util.testing is deprecated. Use the functions in the public API at pandas.testing instead.\n",
            "  import pandas.util.testing as tm\n"
          ],
          "name": "stderr"
        }
      ]
    },
    {
      "cell_type": "markdown",
      "metadata": {
        "tags": [],
        "cell_id": "00004-9a96e606-fc51-481f-aae3-423bef6d45f9",
        "deepnote_cell_type": "markdown",
        "id": "ZEs3GxunjE53"
      },
      "source": [
        "### Getting the Data"
      ]
    },
    {
      "cell_type": "code",
      "metadata": {
        "id": "d5oSsRJKMmXl",
        "colab": {
          "base_uri": "https://localhost:8080/",
          "height": 238
        },
        "cell_id": "00004-0eda227a-d9ac-4e89-af8d-b5b8d9a5b7fa",
        "deepnote_to_be_reexecuted": false,
        "source_hash": "de5fc7df",
        "execution_millis": 139,
        "execution_start": 1615167657293,
        "deepnote_cell_type": "code",
        "outputId": "b960c5b0-89c4-4631-ce98-ebe563830fa3"
      },
      "source": [
        "# Reading the dataset into a Pandas dataframe (df)\n",
        "df = pd.read_csv('https://raw.githubusercontent.com/hpfister/ds10/master/winequality-red.csv', sep=';')\n",
        "# 'https://archive.ics.uci.edu/ml/machine-learning-databases/wine-quality/winequality-red.csv' # Alternate URL\n",
        "print(df.shape) # we have 1599 rows and 12 columns\n",
        "df.head()"
      ],
      "execution_count": null,
      "outputs": [
        {
          "output_type": "stream",
          "text": [
            "(1599, 12)\n"
          ],
          "name": "stdout"
        },
        {
          "output_type": "execute_result",
          "data": {
            "text/html": [
              "<div>\n",
              "<style scoped>\n",
              "    .dataframe tbody tr th:only-of-type {\n",
              "        vertical-align: middle;\n",
              "    }\n",
              "\n",
              "    .dataframe tbody tr th {\n",
              "        vertical-align: top;\n",
              "    }\n",
              "\n",
              "    .dataframe thead th {\n",
              "        text-align: right;\n",
              "    }\n",
              "</style>\n",
              "<table border=\"1\" class=\"dataframe\">\n",
              "  <thead>\n",
              "    <tr style=\"text-align: right;\">\n",
              "      <th></th>\n",
              "      <th>fixed acidity</th>\n",
              "      <th>volatile acidity</th>\n",
              "      <th>citric acid</th>\n",
              "      <th>residual sugar</th>\n",
              "      <th>chlorides</th>\n",
              "      <th>free sulfur dioxide</th>\n",
              "      <th>total sulfur dioxide</th>\n",
              "      <th>density</th>\n",
              "      <th>pH</th>\n",
              "      <th>sulphates</th>\n",
              "      <th>alcohol</th>\n",
              "      <th>quality</th>\n",
              "    </tr>\n",
              "  </thead>\n",
              "  <tbody>\n",
              "    <tr>\n",
              "      <th>0</th>\n",
              "      <td>7.4</td>\n",
              "      <td>0.70</td>\n",
              "      <td>0.00</td>\n",
              "      <td>1.9</td>\n",
              "      <td>0.076</td>\n",
              "      <td>11.0</td>\n",
              "      <td>34.0</td>\n",
              "      <td>0.9978</td>\n",
              "      <td>3.51</td>\n",
              "      <td>0.56</td>\n",
              "      <td>9.4</td>\n",
              "      <td>5</td>\n",
              "    </tr>\n",
              "    <tr>\n",
              "      <th>1</th>\n",
              "      <td>7.8</td>\n",
              "      <td>0.88</td>\n",
              "      <td>0.00</td>\n",
              "      <td>2.6</td>\n",
              "      <td>0.098</td>\n",
              "      <td>25.0</td>\n",
              "      <td>67.0</td>\n",
              "      <td>0.9968</td>\n",
              "      <td>3.20</td>\n",
              "      <td>0.68</td>\n",
              "      <td>9.8</td>\n",
              "      <td>5</td>\n",
              "    </tr>\n",
              "    <tr>\n",
              "      <th>2</th>\n",
              "      <td>7.8</td>\n",
              "      <td>0.76</td>\n",
              "      <td>0.04</td>\n",
              "      <td>2.3</td>\n",
              "      <td>0.092</td>\n",
              "      <td>15.0</td>\n",
              "      <td>54.0</td>\n",
              "      <td>0.9970</td>\n",
              "      <td>3.26</td>\n",
              "      <td>0.65</td>\n",
              "      <td>9.8</td>\n",
              "      <td>5</td>\n",
              "    </tr>\n",
              "    <tr>\n",
              "      <th>3</th>\n",
              "      <td>11.2</td>\n",
              "      <td>0.28</td>\n",
              "      <td>0.56</td>\n",
              "      <td>1.9</td>\n",
              "      <td>0.075</td>\n",
              "      <td>17.0</td>\n",
              "      <td>60.0</td>\n",
              "      <td>0.9980</td>\n",
              "      <td>3.16</td>\n",
              "      <td>0.58</td>\n",
              "      <td>9.8</td>\n",
              "      <td>6</td>\n",
              "    </tr>\n",
              "    <tr>\n",
              "      <th>4</th>\n",
              "      <td>7.4</td>\n",
              "      <td>0.70</td>\n",
              "      <td>0.00</td>\n",
              "      <td>1.9</td>\n",
              "      <td>0.076</td>\n",
              "      <td>11.0</td>\n",
              "      <td>34.0</td>\n",
              "      <td>0.9978</td>\n",
              "      <td>3.51</td>\n",
              "      <td>0.56</td>\n",
              "      <td>9.4</td>\n",
              "      <td>5</td>\n",
              "    </tr>\n",
              "  </tbody>\n",
              "</table>\n",
              "</div>"
            ],
            "text/plain": [
              "   fixed acidity  volatile acidity  citric acid  ...  sulphates  alcohol  quality\n",
              "0            7.4              0.70         0.00  ...       0.56      9.4        5\n",
              "1            7.8              0.88         0.00  ...       0.68      9.8        5\n",
              "2            7.8              0.76         0.04  ...       0.65      9.8        5\n",
              "3           11.2              0.28         0.56  ...       0.58      9.8        6\n",
              "4            7.4              0.70         0.00  ...       0.56      9.4        5\n",
              "\n",
              "[5 rows x 12 columns]"
            ]
          },
          "metadata": {
            "tags": []
          },
          "execution_count": 2
        }
      ]
    },
    {
      "cell_type": "markdown",
      "metadata": {
        "id": "9Qre4QdUMeMt",
        "cell_id": "00006-d0d46377-7591-4e74-bea4-757771665688",
        "deepnote_cell_type": "markdown"
      },
      "source": [
        "### Predicted Value\n",
        "\n",
        "Our target predicted value is `quality`, which is a discrete ordinal value in the range (3, 8). First, lets take a look at the number of wines for each quality level in the dataset. "
      ]
    },
    {
      "cell_type": "code",
      "metadata": {
        "id": "X9_82p3mNHot",
        "colab": {
          "base_uri": "https://localhost:8080/"
        },
        "cell_id": "00007-a2bf8a83-ee73-4327-a889-38e38044957a",
        "deepnote_to_be_reexecuted": false,
        "source_hash": "b700d74b",
        "execution_millis": 18,
        "execution_start": 1615167661614,
        "deepnote_cell_type": "code",
        "outputId": "9d156c91-7912-403f-8b63-3f5b065cbfce"
      },
      "source": [
        "# Our target Predicted value is quality \n",
        "print(df.quality.value_counts())"
      ],
      "execution_count": null,
      "outputs": [
        {
          "output_type": "stream",
          "text": [
            "5    681\n",
            "6    638\n",
            "7    199\n",
            "4     53\n",
            "8     18\n",
            "3     10\n",
            "Name: quality, dtype: int64\n"
          ],
          "name": "stdout"
        }
      ]
    },
    {
      "cell_type": "markdown",
      "metadata": {
        "id": "XMDL-AVmOTaQ",
        "cell_id": "00008-537bf40b-8e73-44fd-9231-b6b80e681d41",
        "deepnote_cell_type": "markdown"
      },
      "source": [
        "------\n",
        "### Binary Classification\n",
        "\n",
        "We are going to convert this into a binary classification problem. I.e., we will convert the ordinal values of `quality` into a binary class (0, 1) (0 = bad quality, 1 = good quality). \n",
        "\n",
        "We decide that wines with quality `>=6` are good quality (i.e., `quality=1`) and wines with quality `<6` are bad quality (i.e., `quality=0`). Later on you will change this threshold to create an imbalanced dataset. For now, pay attention to where it says \"COME BACK HERE\" in the code. "
      ]
    },
    {
      "cell_type": "code",
      "metadata": {
        "id": "kA9M2z6Vm0kk",
        "colab": {
          "base_uri": "https://localhost:8080/"
        },
        "cell_id": "00009-cde8bf3a-f50f-4c48-8a3b-352a5c17e75a",
        "deepnote_to_be_reexecuted": false,
        "source_hash": "4a14c61b",
        "execution_millis": 13,
        "execution_start": 1615167668868,
        "deepnote_cell_type": "code",
        "outputId": "44c668eb-c28a-40d7-fe9e-c2583efaa3f9"
      },
      "source": [
        "# By convention, the perdictor are stored in the vector Y\n",
        "Y = df.quality\n",
        "\n",
        "# By convention, the features are stored in the vector X\n",
        "X = df[df.columns.difference(['quality'])]\n",
        "print(X.shape, Y.shape)\n",
        "\n",
        "# Original code - leave this for your first run through\n",
        "# Convert Y to a vector with binary values. Ratings 6,7,8 are good quality, <6 are bad quality\n",
        "Y = np.array([1 if y>=6 else 0 for y in Y])\n",
        "\n",
        "# COME BACK HERE: Later on, you will change the ratings threshold to get an imbalanced dataset \n",
        "# Imbalanced: Ratings 7,8 are good quality,  3,4,5,6 are bad quality - comment line 10 and uncomment line 14\n",
        "# Y = np.array([1 if y>=7 else 0 for y in Y])\n",
        "\n",
        "# Print the percentage of samples in each class\n",
        "print(\"\\n\\nBinary Classification (1 = Good quality  , 0 = Bad quality): \")\n",
        "print(pd.Series(Y).value_counts(normalize=True))  "
      ],
      "execution_count": null,
      "outputs": [
        {
          "output_type": "stream",
          "text": [
            "(1599, 11) (1599,)\n",
            "\n",
            "\n",
            "Binary Classification (1 = Good quality  , 0 = Bad quality): \n",
            "1    0.534709\n",
            "0    0.465291\n",
            "dtype: float64\n"
          ],
          "name": "stdout"
        }
      ]
    },
    {
      "cell_type": "markdown",
      "metadata": {
        "tags": [],
        "cell_id": "00009-65cbbfd0-2648-4056-91c9-0d83952cf74d",
        "deepnote_cell_type": "markdown",
        "id": "Lg5Wyb2AjE55"
      },
      "source": [
        "# Basic ML Models\n",
        "\n",
        "We are training the same basic ML models we used in part 1:\n",
        "- Logistic regression\n",
        "- SVM\n",
        "- Decision Tree\n",
        "- k-Nearest Neighbor (kNN)\n",
        "\n",
        "We will first create our training and test data and then standardize the data. \n",
        "\n",
        "In a binary classification problem, we may decide to predict the class values (0 or 1) for each wine directly. However, it is more flexible to predict the probabilities for each class instead. The reason for this is to provide the capability to choose and even calibrate a **threshold** for how to interpret the predicted probabilities. \n",
        "\n",
        "For example, a threshold of 0.5 means that a probability in [0.0, 0.49] is a negative outcome (0=bad quality) and a probability in [0.5, 1.0] is a positive outcome (1=good quality). This threshold can be adjusted to tune the behavior of the model for a specific problem. An example would be to reduce more of one or another type of error.\n",
        "\n",
        "In the following code, we are making sure that all our models output probabilities for each class. We will then compute confusion matrices and then adjust the threshold to compute ROC/AUC and precision / recall curves."
      ]
    },
    {
      "cell_type": "markdown",
      "metadata": {
        "tags": [],
        "cell_id": "00010-135f7ef5-bea1-4907-a6ee-be7c693d5a7f",
        "deepnote_cell_type": "markdown",
        "id": "hkk69ZI2jE56"
      },
      "source": [
        "**Split and Standardize Data**"
      ]
    },
    {
      "cell_type": "code",
      "metadata": {
        "tags": [],
        "cell_id": "00011-9e8d9bbd-6b68-487c-aef2-1fe4cb4e8522",
        "deepnote_to_be_reexecuted": false,
        "source_hash": "c8181078",
        "execution_millis": 4,
        "execution_start": 1615167672905,
        "deepnote_cell_type": "code",
        "id": "tmiqYbtujE56"
      },
      "source": [
        "# From Part 1 \n",
        "# Split data into train (80%) and test (20%) sets.\n",
        "# random_state: Controls the shuffling applied to the data before applying the split. \n",
        "#              Pass an int for reproducible output across multiple function calls.\n",
        "X_train, X_test, y_train, y_test = train_test_split(X, Y,\n",
        "                                                    test_size=0.2,\n",
        "                                                    random_state=10)\n",
        "\n",
        "\n",
        "# Standardize the features\n",
        "\n",
        "# We standardize training and test data separately to avoid information leakage between them\n",
        "# Also note we do not standardize the predicted value `quality`, just the features\n",
        "scaler = StandardScaler()\n",
        "X_train_s = scaler.fit_transform(X_train)\n",
        "X_test_s = scaler.transform(X_test)\n",
        "\n",
        "# sklearn StandardScaler() returns Numpy arrays. That means your column names are gone. \n",
        "# If we want to preserve the column names we need to convert the array back to a Pandas dataframe and add the column names. \n",
        "X_train_s = pd.DataFrame(X_train_s,columns=X.columns)\n",
        "X_test_s = pd.DataFrame(X_test_s,columns=X.columns)"
      ],
      "execution_count": null,
      "outputs": []
    },
    {
      "cell_type": "markdown",
      "metadata": {
        "tags": [],
        "cell_id": "00011-44803d26-ef51-4fac-ab7c-1bfb6428671b",
        "deepnote_cell_type": "markdown",
        "id": "GbfNe80zjE56"
      },
      "source": [
        "**Logistic Regression**"
      ]
    },
    {
      "cell_type": "code",
      "metadata": {
        "tags": [],
        "cell_id": "00011-7769712e-29dc-4955-b80b-24ab1f14acf9",
        "deepnote_to_be_reexecuted": false,
        "source_hash": "bb745614",
        "execution_millis": 9,
        "execution_start": 1615167675302,
        "deepnote_cell_type": "code",
        "id": "H9o_w_nejE56"
      },
      "source": [
        "# From Part 1 \n",
        "# Creating the logistic regression model\n",
        "# Hyperparamter 'C' controls how much regularization the model uses (smaller C = more regularization)\n",
        "lr_clf = LogisticRegression(solver='liblinear', \n",
        "                           random_state=57,C=10000) \n",
        "\n",
        "# Fitting the model to the data (i.e., training the model)\n",
        "lr_clf.fit(X_train_s, y_train)\n",
        "\n",
        "# Predictions on the test set\n",
        "lr_preds = lr_clf.predict(X_test_s)\n",
        "\n",
        "# Predict probabilities on the test set\n",
        "# Predicted probabilites are required for plotting ROC AUC curve\n",
        "lr_preds_prob = lr_clf.predict_proba(X_test_s)\n"
      ],
      "execution_count": null,
      "outputs": []
    },
    {
      "cell_type": "markdown",
      "metadata": {
        "tags": [],
        "cell_id": "00013-f6bf0249-e722-4599-83af-423a79ef53b2",
        "deepnote_cell_type": "markdown",
        "id": "2rRYBnoIjE57"
      },
      "source": [
        "**Support Vector Machine**"
      ]
    },
    {
      "cell_type": "code",
      "metadata": {
        "tags": [],
        "cell_id": "00013-ec1d04ed-adff-4204-a5e7-ceccd7d22637",
        "deepnote_to_be_reexecuted": false,
        "source_hash": "5a1f2292",
        "execution_millis": 374,
        "execution_start": 1615167677609,
        "deepnote_cell_type": "code",
        "id": "c1t1FnugjE57"
      },
      "source": [
        "# From Part 1\n",
        "# Creating the SVM model\n",
        "# We are setting probability=True for the model to predict probabilites (this was not in part 1)\n",
        "# Note the hyperparameters 'kernel' and 'C' (smaller C = more regularization) - we will come back to these later\n",
        "# INITIAL CODE\n",
        "svc_clf = SVC( kernel='rbf', C=100.0, probability=True, random_state=10) \n",
        "# OPTIMAL HYPERPARAMETERS\n",
        "# Change your optimal parameters here after you finished the \"Cross-Validation and Grid Search\" section.\n",
        "# svc_clf = SVC( kernel='rbf', C=100.0, probability=True, random_state=10)\n",
        "\n",
        "# Fitting the model to the data (i.e., training the model)\n",
        "svc_clf.fit(X_train_s, y_train) \n",
        "\n",
        "# Predictions on the test set\n",
        "svc_preds = svc_clf.predict(X_test_s)\n",
        "\n",
        "# Predict probabilities on the test set\n",
        "# Predicted probabilites are required for plotting ROC AUC curve\n",
        "svc_preds_prob = svc_clf.predict_proba(X_test_s)"
      ],
      "execution_count": null,
      "outputs": []
    },
    {
      "cell_type": "markdown",
      "metadata": {
        "tags": [],
        "cell_id": "00015-72b99262-1b56-4b12-9337-6f078385a5de",
        "deepnote_cell_type": "markdown",
        "id": "RJ2xv8ZkjE57"
      },
      "source": [
        "**Decision Tree** "
      ]
    },
    {
      "cell_type": "code",
      "metadata": {
        "tags": [],
        "cell_id": "00016-9d2815ad-b191-42da-92bc-919b594cb130",
        "deepnote_to_be_reexecuted": false,
        "source_hash": "c524c6f8",
        "execution_millis": 7,
        "execution_start": 1615167680075,
        "deepnote_cell_type": "code",
        "id": "y2uXp3NHjE59"
      },
      "source": [
        "# From Part 1 \n",
        "# Creating the DT model\n",
        "# Note the hyperparameter 'max_depth' - we will come back to this later\n",
        "# INITIAL CODE\n",
        "clf_dt = DecisionTreeClassifier(max_depth=10, random_state=10) \n",
        "# OPTIMAL HYPERPARAMETERS\n",
        "# Change your optimal parameters here after you finished the \"Cross-Validation and Grid Search\" section.\n",
        "# clf_dt = DecisionTreeClassifier(max_depth=10, random_state=10) \n",
        "\n",
        "# Fitting the model to the data (i.e., training the model)\n",
        "clf_dt.fit(X_train_s, y_train)\n",
        "\n",
        "# Predictions on the test set\n",
        "dt_preds = clf_dt.predict(X_test_s)\n",
        "\n",
        "# Predict probabilities on the test set\n",
        "# Predicted probabilites are required for plotting ROC AUC curve\n",
        "dt_preds_prob = clf_dt.predict_proba(X_test_s)\n"
      ],
      "execution_count": null,
      "outputs": []
    },
    {
      "cell_type": "markdown",
      "metadata": {
        "tags": [],
        "cell_id": "00017-6b67c45f-dd02-4e2d-bb60-fd0b508a0069",
        "deepnote_cell_type": "markdown",
        "id": "KEC49wlsjE59"
      },
      "source": [
        "**KNearest Neighbors**"
      ]
    },
    {
      "cell_type": "code",
      "metadata": {
        "tags": [],
        "cell_id": "00018-3c6096a8-faab-42b7-b2b6-a86dd5f47f8f",
        "deepnote_to_be_reexecuted": false,
        "source_hash": "68f740cd",
        "execution_millis": 27,
        "execution_start": 1615167681904,
        "deepnote_cell_type": "code",
        "id": "7kwJdDXzjE59"
      },
      "source": [
        "# From Part 1 \n",
        "# Creating the KNN model\n",
        "# Note the hyperparameter 'n_neighbors' (or k) and p - we will come back to this later\n",
        "# INITIAL CODE\n",
        "clf_knn = KNeighborsClassifier(n_neighbors=10, p=2)\n",
        "# OPTIMAL HYPERPARAMETERS\n",
        "# Change your optimal parameters here after you finished the \"Cross-Validation and Grid Search\" section.\n",
        "# clf_knn = KNeighborsClassifier(n_neighbors=10, p=2)\n",
        "\n",
        "# Fitting the model to the data (i.e., training the model)\n",
        "clf_knn.fit(X_train_s, y_train)\n",
        "\n",
        "# Predictions on the test set\n",
        "knn_preds = clf_knn.predict(X_test_s)\n",
        "\n",
        "# Predict probabilities on the test set\n",
        "# Predicted probabilites are required for plotting ROC AUC curve\n",
        "knn_preds_prob = clf_knn.predict_proba(X_test_s)"
      ],
      "execution_count": null,
      "outputs": []
    },
    {
      "cell_type": "markdown",
      "metadata": {
        "tags": [],
        "cell_id": "00011-42d9554f-0bc3-49ee-80b8-2422891a315a",
        "deepnote_cell_type": "markdown",
        "id": "mJ7WypFRjE59"
      },
      "source": [
        "# Model Performance Assessment\n",
        "\n",
        "We will now compare several error metrics to assess the performance of our classification models. Please take note and capture screenshots of the visualizations. Later on you will come back to re-run these cells with an imbalanced dataset, and we would like you to compare the results of the balanced and imbalanced data. "
      ]
    },
    {
      "cell_type": "markdown",
      "metadata": {
        "tags": [],
        "cell_id": "00012-2e569f0c-716e-468a-be63-d80c9dbfacde",
        "deepnote_cell_type": "markdown",
        "id": "a2dgFxNtjE5-"
      },
      "source": [
        "## [Accuracy](https://scikit-learn.org/stable/modules/generated/sklearn.metrics.accuracy_score.html)\n",
        "\n",
        "The most commonly used metric to judge a model is accuracy. Unfortunately, accuracy is a bad indicator of model performance, especially when the classes are imbalanced. "
      ]
    },
    {
      "cell_type": "code",
      "metadata": {
        "tags": [],
        "cell_id": "00013-071c85b9-e1b3-4165-8c04-aabb1d1b1978",
        "deepnote_to_be_reexecuted": false,
        "source_hash": "e62c6d13",
        "execution_millis": 21,
        "execution_start": 1615167684303,
        "deepnote_cell_type": "code",
        "colab": {
          "base_uri": "https://localhost:8080/"
        },
        "id": "AEFxMisPjE5-",
        "outputId": "9d7afd58-8277-40f7-da00-4ead4b09135c"
      },
      "source": [
        "# Setting different colors for the print statements\n",
        "class color:\n",
        "   PURPLE = '\\033[95m'\n",
        "   CYAN = '\\033[96m'\n",
        "   DARKCYAN = '\\033[36m'\n",
        "   BLUE = '\\033[94m'\n",
        "   GREEN = '\\033[92m'\n",
        "   YELLOW = '\\033[93m'\n",
        "   RED = '\\033[91m'\n",
        "   BOLD = '\\033[1m'\n",
        "   UNDERLINE = '\\033[4m'\n",
        "   END = '\\033[0m'\n",
        "\n",
        "\n",
        "# We evaluate each model on the test set with accuracy\n",
        "print(color.BOLD + '\\nLogistic Regression: ') \n",
        "print(\"Accuracy:\", accuracy_score(y_test,lr_preds))\n",
        "\n",
        "print(color.BLUE + '\\nSupport Vector Machine: ')\n",
        "print(\"Accuracy:\", accuracy_score(y_test,svc_preds))\n",
        "\n",
        "\n",
        "print(color.RED + '\\nDecision Tree: ')\n",
        "print(\"Accuracy:\", accuracy_score(y_test,dt_preds))\n",
        "\n",
        "print(color.PURPLE + '\\nKNearest Neighbors: ')\n",
        "print(\"Accuracy:\", accuracy_score(y_test,knn_preds))\n"
      ],
      "execution_count": null,
      "outputs": [
        {
          "output_type": "stream",
          "text": [
            "\u001b[1m\n",
            "Logistic Regression: \n",
            "Accuracy: 0.73125\n",
            "\u001b[94m\n",
            "Support Vector Machine: \n",
            "Accuracy: 0.7375\n",
            "\u001b[91m\n",
            "Decision Tree: \n",
            "Accuracy: 0.778125\n",
            "\u001b[95m\n",
            "KNearest Neighbors: \n",
            "Accuracy: 0.71875\n"
          ],
          "name": "stdout"
        }
      ]
    },
    {
      "cell_type": "markdown",
      "metadata": {
        "tags": [],
        "cell_id": "00014-2bba8738-2cf9-4b96-816a-4bd26049cd86",
        "deepnote_cell_type": "markdown",
        "id": "4sIceTgojE5-"
      },
      "source": [
        "**Q** We said that accuracy is a bad metric for imbalanced data. For example, the chances of having cancer are very low. Let’s say 90 out of 100 patients do not have cancer and the remaining 10 actually have it. What simple, but useless model would get 90% accuracy for this data?\n",
        "\n",
        "**A** "
      ]
    },
    {
      "cell_type": "markdown",
      "metadata": {
        "id": "vPEMjWlR-Ps7",
        "cell_id": "00030-8cd003be-7f1d-4b26-9551-1b89282c04e5",
        "deepnote_cell_type": "markdown"
      },
      "source": [
        "## [Confusion Matrix](https://scikit-learn.org/stable/modules/model_evaluation.html#confusion-matrix)\n",
        "The confusion matrix nicely summarizes the following quantities:\n",
        "\n",
        "- True positives (TP): Predicted positive and are actually positive.\n",
        "- False positives (FP): Predicted positive and are actually negative.\n",
        "- True negatives (TN): Predicted negative and are actually negative.\n",
        "- False negatives (FN): Predicted negative and are actually positive.\n",
        "\n",
        "See [Wikipedia](#https://en.wikipedia.org/wiki/Confusion_matrix) for a good explanation and a nice figure on how the confusion matrix relates to the different error metrics."
      ]
    },
    {
      "cell_type": "code",
      "metadata": {
        "tags": [],
        "cell_id": "00026-fe29633f-81fd-4c87-b9fe-dae1f8185b6f",
        "deepnote_to_be_reexecuted": false,
        "source_hash": "f6db4935",
        "execution_millis": 911,
        "execution_start": 1615167687772,
        "deepnote_cell_type": "code",
        "colab": {
          "base_uri": "https://localhost:8080/",
          "height": 646
        },
        "id": "niAlytbyjE5-",
        "outputId": "11d12ea0-3069-42d7-fbf7-241e41a51f97"
      },
      "source": [
        "# CAREFUL: scikit-learn plots the confusion matrix with TP in the lower right corner unlike \n",
        "# what would be considered the \"standard\" arrangement with TP in the upper left corner. \n",
        "# Alway check the axis in the confusion matrix plot!\n",
        "\n",
        "fig, axs = plt.subplots(2, 2, figsize=(10,10))\n",
        "fig.suptitle('Confusion Matrix')\n",
        "# remove the x and y ticks\n",
        "plt.setp(axs, xticks=[], yticks=[])\n",
        "threshold = 0.5\n",
        "group_names = ['True Neg','False Pos','False Neg','True Pos']\n",
        "\n",
        "all_preds = [lr_preds_prob, svc_preds_prob, dt_preds_prob, knn_preds_prob]\n",
        "titles = ['Logistic Regression', 'Support Vector Machines', 'Decision Tree', 'KNearestNeighors']\n",
        "\n",
        "for i in range(2):\n",
        "    for j in range(2):\n",
        "        cf_matrix =  confusion_matrix(y_test, all_preds[i*2+j][:,1]>threshold) \n",
        "        group_counts = [value for value in  cf_matrix.flatten()]\n",
        "        labels = [f\"{v1}\\n{v2}\" for v1, v2 in  zip(group_names,group_counts)]\n",
        "        labels = np.asarray(labels).reshape(2,2)\n",
        "        axs[i,j].title.set_text(titles[i*2+j])\n",
        "        sns.heatmap(cf_matrix, annot=labels, fmt='', ax=axs[i,j])\n",
        "\n",
        "\n",
        "plt.setp(axs, xticks=[], yticks=[]); #Remove x and y tick labels"
      ],
      "execution_count": null,
      "outputs": [
        {
          "output_type": "display_data",
          "data": {
            "image/png": "[encoded data removed]",
            "text/plain": [
              "<Figure size 720x720 with 8 Axes>"
            ]
          },
          "metadata": {
            "tags": [],
            "needs_background": "light"
          }
        }
      ]
    },
    {
      "cell_type": "markdown",
      "metadata": {
        "tags": [],
        "cell_id": "00028-2caa2ba8-79cc-47cc-956f-15ff358999d9",
        "deepnote_cell_type": "markdown",
        "id": "Py5My49IjE5_"
      },
      "source": [
        "**Q** Looking at these confusion matrices, rank the models by performance, and explain your ranking. \n",
        "\n",
        "**A** "
      ]
    },
    {
      "cell_type": "markdown",
      "metadata": {
        "tags": [],
        "cell_id": "00028-c8795a1f-dfac-4143-a7a8-085d2e7c3af1",
        "deepnote_cell_type": "markdown",
        "id": "jE_kYWrcjE5_"
      },
      "source": [
        "---\n",
        "**Q** Looking at the SVM confusion matrix, how would you feel about this model if this were a medical diagnosis example (0 = disease not present, 1 = disease present)? \n",
        "\n",
        "**A** "
      ]
    },
    {
      "cell_type": "markdown",
      "metadata": {
        "tags": [],
        "cell_id": "00018-dc3922ed-ac40-4025-b713-de2e391c38e4",
        "deepnote_cell_type": "markdown",
        "id": "Jdpxq_GEjE5_"
      },
      "source": [
        "## [ROC Curve and AUC Score](https://scikit-learn.org/stable/modules/generated/sklearn.metrics.roc_curve.html?highlight=roc_curve#sklearn.metrics.roc_curve)\n",
        "\n",
        "The ROC (Receiver Operator Characteristics) curve shows the TPR (true positive rate) and FPR (false positive rate) for a number of different threshold values to convert class probabilites to binary classification outputs. Put another way, it plots the false alarm rate (FPR) versus the hit rate (TPR).\n",
        "\n",
        "The true positive rate is calculated as the number of true positives divided by the sum of the number of true positives and the number of false negatives. It describes how good the model is at predicting the positive class when the actual outcome is positive.\n",
        "\n",
        "**True Positive Rate = True Positives / (True Positives + False Negatives)**\n",
        "\n",
        "The false positive rate is calculated as the number of false positives divided by the sum of the number of false positives and the number of true negatives. It is also called the false alarm rate as it summarizes how often a positive class is predicted when the actual outcome is negative.\n",
        "\n",
        "**False Positive Rate = False Positives / (False Positives + True Negatives) = 1 - Specificity**\n",
        "\n",
        "The diagonal line indicates random chance results for all thresholds. The Area Under Curve (AUC) metric computes the area under the ROC curve. The higher the AUC score, the better. It is a better metric than accuracy in case of class imbalance. \n",
        "\n",
        "[Source](https://machinelearningmastery.com/roc-curves-and-precision-recall-curves-for-classification-in-python/)"
      ]
    },
    {
      "cell_type": "code",
      "metadata": {
        "tags": [],
        "cell_id": "00026-3ad002db-1675-4756-964c-9625f9a8e293",
        "deepnote_to_be_reexecuted": false,
        "source_hash": "67968a02",
        "execution_millis": 240,
        "execution_start": 1615167692326,
        "deepnote_cell_type": "code",
        "colab": {
          "base_uri": "https://localhost:8080/",
          "height": 464
        },
        "id": "oiCo0euojE5_",
        "outputId": "69036fc0-3071-4ed0-88ef-7362af1e8e61"
      },
      "source": [
        "# Compare all classifiers (Logisitic Regression, SVM, Decision Tree and KNN) with ROC curves and AUC\n",
        "plt.figure(figsize=(12,7))\n",
        "labels = ['LR', 'SVM', 'DT', 'KNN']\n",
        "all_preds = [lr_preds_prob, svc_preds_prob, dt_preds_prob, knn_preds_prob]\n",
        "\n",
        "# For all four models:\n",
        "for i in range(4):\n",
        "    # The roc_curve() function takes both the true outcomes (0,1) from the test set and \n",
        "    # the predicted probabilities for the 1 class. The function returns the false positive \n",
        "    # rates for each threshold, true positive rates for each threshold, and the thresholds.\n",
        "    fpr, tpr, roc_thresholds = roc_curve(y_test,all_preds[i][:,1])\n",
        "    \n",
        "    # The auc() function computes the AUC\n",
        "    roc_auc = auc(fpr, tpr)\n",
        "\n",
        "    plt.plot(fpr, tpr, lw=2, label='%s (AUC = %0.2f)' % (labels[i], roc_auc))\n",
        "\n",
        "# Diagonal line for chance predictions\n",
        "plt.plot([0, 1], [0, 1], '--', color=(0.6, 0.6, 0.6), label='Luck'); \n",
        "\n",
        "# Show a bit beyond range [0,1]\n",
        "plt.xlim([-0.05, 1.05])\n",
        "plt.ylim([-0.05, 1.05])\n",
        "\n",
        "# Axis labels and legend\n",
        "plt.xlabel('False Positive Rate')\n",
        "plt.ylabel('True Positive Rate')\n",
        "plt.title('ROC curve for different ML models')\n",
        "plt.legend(loc=\"lower right\")\n",
        "\n",
        "# Show the plot\n",
        "plt.show()\n"
      ],
      "execution_count": null,
      "outputs": [
        {
          "output_type": "display_data",
          "data": {
            "image/png": "[encoded data removed]",
            "text/plain": [
              "<Figure size 864x504 with 1 Axes>"
            ]
          },
          "metadata": {
            "tags": [],
            "needs_background": "light"
          }
        }
      ]
    },
    {
      "cell_type": "markdown",
      "metadata": {
        "tags": [],
        "cell_id": "00031-4a4710de-a74d-4498-a512-1d67cd629d49",
        "deepnote_cell_type": "markdown",
        "id": "x4ZqEKNCjE5_"
      },
      "source": [
        "**Q** What do you notice? What do you wonder?\n",
        "\n",
        "**A** "
      ]
    },
    {
      "cell_type": "markdown",
      "metadata": {
        "tags": [],
        "cell_id": "00032-74949efb-478e-4de0-aa66-eca5b827d4b2",
        "deepnote_cell_type": "markdown",
        "id": "RC4MkLNQjE5_"
      },
      "source": [
        "-----\n",
        "**Q** Looking at the ROC curve for the SVM model, what values are a desirable balance between the false positives and false negatives? Report the (TPR, FPR) values for the optimal point on the ROC curve and explain your reasoning. \n",
        "\n",
        "**A** "
      ]
    },
    {
      "cell_type": "markdown",
      "metadata": {
        "tags": [],
        "cell_id": "00030-e921fb57-6fc5-43b2-80fc-3441d9cc87d7",
        "deepnote_cell_type": "markdown",
        "id": "dtwec1hbjE5_"
      },
      "source": [
        "-----\n",
        "**Q** Are the class predictions that gets passed to `roc_curve()` discrete or continuous? \n",
        "\n",
        "**A** "
      ]
    },
    {
      "cell_type": "markdown",
      "metadata": {
        "tags": [],
        "cell_id": "00021-1f84ccf9-abdb-4937-83cd-a04bcfc71b54",
        "deepnote_cell_type": "markdown",
        "id": "9-ouA-w1jE5_"
      },
      "source": [
        "## [Precision-Recall Curve](https://scikit-learn.org/stable/modules/generated/sklearn.metrics.precision_recall_curve.html)\n",
        "\n",
        "A precision-recall curve is a plot of the precision (y-axis) and the recall (x-axis) for different thresholds, much like the ROC curve. \n",
        "\n",
        "Precision is a ratio of the number of true positives divided by the sum of the true positives and false positives. It describes how good a model is at predicting the positive class. Precision is also referred to as the positive predictive value (PPV).\n",
        "\n",
        "**Precision = True Positives / (True Positives + False Positives) = PPV **\n",
        "\n",
        "Recall is calculated as the ratio of the number of true positives divided by the sum of the true positives and the false negatives. Recall is the same as sensitivity.\n",
        "\n",
        "**Recall = True Positives / (True Positives + False Negatives) = Sensitivity**\n",
        "\n",
        "Reviewing both precision and recall is useful in cases where there is an imbalance in the observations between the two classes. Specifically, if there are many examples of no event (class 0) and only a few examples of an event (class 1). \n",
        "\n",
        "Typically, the large number of class 0 examples (i.e., high true negatives) means we are less interested in the skill of the model at predicting class 0 correctly. [Precision and recall are better for imbalanced data](https://journals.plos.org/plosone/article?id=10.1371/journal.pone.0118432) because the calculations do not make use of the true negatives (class 0) and are only concerned with the correct prediction of the minority class (class 1).\n",
        "\n",
        "A no-skill classifier is one that cannot discriminate between the classes and would predict a random class or a constant class in all cases. The no-skill line is a horizontal line that changes based on the value of the ratio of positive to negative cases in the dataset. For a balanced dataset this is line is at y=0.5.\n",
        "\n",
        "A model with perfect skill is depicted as a point at (1,1). A skilful model is represented by a curve that bows towards (1,1) above the flat line of no skill. The AUC summarizes the integral or an approximation of the area under the precision-recall curve across thresholds like the ROC AUC.\n",
        "\n",
        "[Source](https://machinelearningmastery.com/roc-curves-and-precision-recall-curves-for-classification-in-python/)"
      ]
    },
    {
      "cell_type": "code",
      "metadata": {
        "tags": [],
        "cell_id": "00036-366190aa-1fc3-4b8e-a070-4bb67ab6f2e7",
        "deepnote_to_be_reexecuted": false,
        "source_hash": "68642bd9",
        "execution_millis": 298,
        "execution_start": 1615167697502,
        "deepnote_cell_type": "code",
        "colab": {
          "base_uri": "https://localhost:8080/",
          "height": 448
        },
        "id": "xvOM5NN1jE6A",
        "outputId": "bb9f0d7c-7770-4fe8-9b1b-e1fb6430e5be"
      },
      "source": [
        "# Compare all classifiers (Logisitic Regression, SVM, Decision Tree and KNN) with P-R curves and AUC\n",
        "plt.figure(figsize=(12,7))\n",
        "all_preds = [lr_preds_prob, svc_preds_prob, dt_preds_prob, knn_preds_prob]\n",
        "labels = ['LR', 'SVM', 'DT', 'KNN']\n",
        "\n",
        "# For all four models:\n",
        "for i in range(4):\n",
        "    # The precision_recall_curve() function takes the true output values and\n",
        "    # the probabilities for the positive class as input and returns the precision, \n",
        "    # recall and threshold values.\n",
        "    prec, rec, pr_thresholds = precision_recall_curve(y_test, all_preds[i][:,1])\n",
        "\n",
        "    # The auc() function computes the AUC\n",
        "    auc_prec_rec = auc(rec, prec)\n",
        "    plt.plot(rec, prec, marker='.', lw=1, label='%s (AUC = %0.2f)' % (labels[i], auc_prec_rec)); \n",
        "    \n",
        "\n",
        "# Plot chance prediction precision-recall curve\n",
        "chance = len(y_test[y_test==1]) / len(y_test)\n",
        "plt.plot([0, 1], [chance, chance], linestyle='--', label='Luck')\n",
        "\n",
        "# Axis labels & legend\n",
        "plt.xlabel('Recall')\n",
        "plt.ylabel('Precision')\n",
        "plt.legend()\n",
        "\n",
        "# Show the plot\n",
        "plt.show()\n"
      ],
      "execution_count": null,
      "outputs": [
        {
          "output_type": "display_data",
          "data": {
            "image/png": "[encoded data removed]",
            "text/plain": [
              "<Figure size 864x504 with 1 Axes>"
            ]
          },
          "metadata": {
            "tags": [],
            "needs_background": "light"
          }
        }
      ]
    },
    {
      "cell_type": "markdown",
      "metadata": {
        "tags": [],
        "cell_id": "00035-dba0705f-fad3-4b84-94b7-225b53e93cea",
        "deepnote_cell_type": "markdown",
        "id": "Z3hG_oyXjE6A"
      },
      "source": [
        "**Q** What do you notice? What do you wonder? \n",
        "\n",
        "**A** "
      ]
    },
    {
      "cell_type": "markdown",
      "metadata": {
        "id": "IjktJkZxhZbF"
      },
      "source": [
        "## Predicted Probabilites\n",
        "\n",
        "It is instructive to look at the predicted probabilites of each model, and to see how many unique values there are. Below is code for showing the probabilities of the positive predictions (class 1) and the number of unique probabilities for each of the models."
      ]
    },
    {
      "cell_type": "code",
      "metadata": {
        "tags": [],
        "cell_id": "00037-e1aa4b3f-4154-4881-9543-45b9cce782fc",
        "deepnote_to_be_reexecuted": false,
        "source_hash": "e45fdb41",
        "execution_millis": 13,
        "execution_start": 1615167702005,
        "deepnote_cell_type": "code",
        "colab": {
          "base_uri": "https://localhost:8080/"
        },
        "id": "gkXhVhd8jE6A",
        "outputId": "ad5c50a4-06e0-4e37-fb57-736457f7fb54"
      },
      "source": [
        "lr_preds_prob[:,1]"
      ],
      "execution_count": null,
      "outputs": [
        {
          "output_type": "execute_result",
          "data": {
            "text/plain": [
              "array([0.55308679, 0.24002594, 0.52553567, 0.63524837, 0.34235874,\n",
              "       0.90289527, 0.85063011, 0.6637669 , 0.25577538, 0.08576731,\n",
              "       0.91225146, 0.33432062, 0.24333971, 0.09385271, 0.27194321,\n",
              "       0.26140051, 0.44799396, 0.64865857, 0.35256899, 0.05364075,\n",
              "       0.21541474, 0.86056089, 0.54086242, 0.44086159, 0.13684722,\n",
              "       0.64285193, 0.79679167, 0.48976519, 0.66298757, 0.34675611,\n",
              "       0.19680862, 0.36156288, 0.80838758, 0.88764206, 0.88019086,\n",
              "       0.27816864, 0.95151553, 0.40326716, 0.74786245, 0.20147156,\n",
              "       0.81265537, 0.80998061, 0.28469746, 0.94339276, 0.0382497 ,\n",
              "       0.85063011, 0.51303393, 0.70443295, 0.97658508, 0.50813153,\n",
              "       0.67956188, 0.96999508, 0.94803227, 0.90953897, 0.48032469,\n",
              "       0.97039192, 0.62547629, 0.00757758, 0.46300733, 0.39733374,\n",
              "       0.74294894, 0.1880337 , 0.91801125, 0.63399926, 0.45251334,\n",
              "       0.29325931, 0.53789136, 0.62671656, 0.33142107, 0.71401779,\n",
              "       0.78471729, 0.1786226 , 0.50438521, 0.36554751, 0.40513463,\n",
              "       0.25379684, 0.54112882, 0.65116341, 0.76803961, 0.88946464,\n",
              "       0.95033249, 0.23115995, 0.94382724, 0.21351734, 0.68300921,\n",
              "       0.79845346, 0.52676334, 0.31463098, 0.51061569, 0.46824618,\n",
              "       0.93925902, 0.77031   , 0.95886256, 0.42101478, 0.43132124,\n",
              "       0.43024261, 0.18610639, 0.27035793, 0.67422996, 0.83392635,\n",
              "       0.88109564, 0.36394952, 0.29670879, 0.76099604, 0.72047276,\n",
              "       0.55692418, 0.3431163 , 0.9144853 , 0.86467484, 0.48321013,\n",
              "       0.32127712, 0.92069792, 0.39932014, 0.29869319, 0.22773694,\n",
              "       0.21309425, 0.15865369, 0.12444469, 0.90724452, 0.81561768,\n",
              "       0.42216429, 0.21555752, 0.64865857, 0.31951179, 0.51457616,\n",
              "       0.28641727, 0.44026563, 0.15754709, 0.07400934, 0.01436425,\n",
              "       0.1215585 , 0.17961208, 0.09637518, 0.57821077, 0.32789491,\n",
              "       0.94861461, 0.92963201, 0.41074987, 0.01660628, 0.73118298,\n",
              "       0.72841899, 0.75970877, 0.33322964, 0.64984683, 0.46657107,\n",
              "       0.65483421, 0.67819797, 0.36811577, 0.41963171, 0.51246322,\n",
              "       0.28910529, 0.71401779, 0.92596725, 0.84844607, 0.54214158,\n",
              "       0.33150434, 0.64180904, 0.39800999, 0.8391188 , 0.97505748,\n",
              "       0.86697016, 0.90320739, 0.91490056, 0.74615528, 0.678526  ,\n",
              "       0.80088962, 0.96419233, 0.96843748, 0.74342051, 0.8492616 ,\n",
              "       0.55571178, 0.98186184, 0.65287678, 0.94608298, 0.27253301,\n",
              "       0.18200919, 0.70542541, 0.45074105, 0.04848965, 0.82144029,\n",
              "       0.74326563, 0.48442762, 0.48649521, 0.50556483, 0.33070667,\n",
              "       0.27806635, 0.55481567, 0.95106204, 0.27449872, 0.50165485,\n",
              "       0.26635616, 0.35692246, 0.83228666, 0.95007014, 0.4100224 ,\n",
              "       0.5406963 , 0.42205477, 0.65624147, 0.9430356 , 0.75379366,\n",
              "       0.84760723, 0.57809551, 0.84268085, 0.28833659, 0.19715076,\n",
              "       0.38297765, 0.47347482, 0.39984831, 0.23026097, 0.9766626 ,\n",
              "       0.4155017 , 0.63242107, 0.60711583, 0.02899913, 0.68076717,\n",
              "       0.4768651 , 0.63519714, 0.31311535, 0.40509794, 0.19388824,\n",
              "       0.63055335, 0.91598623, 0.19829481, 0.52889609, 0.92598572,\n",
              "       0.15453799, 0.91108073, 0.52838206, 0.04408881, 0.25591645,\n",
              "       0.29463173, 0.76762087, 0.06222905, 0.59787612, 0.15752594,\n",
              "       0.51934207, 0.10778968, 0.10732405, 0.19568121, 0.42813784,\n",
              "       0.34593637, 0.42716642, 0.46264728, 0.9793961 , 0.6867925 ,\n",
              "       0.71506284, 0.36865782, 0.23168174, 0.60364605, 0.67755153,\n",
              "       0.39367919, 0.77151207, 0.42148751, 0.12444469, 0.14662789,\n",
              "       0.17663268, 0.98103897, 0.87135494, 0.92514339, 0.85638613,\n",
              "       0.51439563, 0.19900206, 0.90291091, 0.37244822, 0.4454784 ,\n",
              "       0.57931059, 0.10923235, 0.87773555, 0.74229247, 0.49581286,\n",
              "       0.12530527, 0.92019963, 0.72047276, 0.76930361, 0.52785634,\n",
              "       0.31753364, 0.29335716, 0.28469746, 0.60004276, 0.3487799 ,\n",
              "       0.86242403, 0.87221544, 0.74022107, 0.8612767 , 0.65267815,\n",
              "       0.30636565, 0.6820195 , 0.7225676 , 0.15307096, 0.77059415,\n",
              "       0.88352111, 0.21540685, 0.94258852, 0.5250824 , 0.22212646,\n",
              "       0.91934949, 0.09617189, 0.83495014, 0.37772786, 0.69030277,\n",
              "       0.91244698, 0.74073778, 0.84533823, 0.86030311, 0.84621229,\n",
              "       0.90674841, 0.16208424, 0.95253745, 0.8727432 , 0.18860177,\n",
              "       0.51331451, 0.19829481, 0.80122202, 0.25773376, 0.50166467,\n",
              "       0.98456517, 0.90669019, 0.97625541, 0.19200037, 0.4097481 ])"
            ]
          },
          "metadata": {
            "tags": []
          },
          "execution_count": 14
        }
      ]
    },
    {
      "cell_type": "code",
      "metadata": {
        "tags": [],
        "cell_id": "00038-5ce482ef-4ba3-4a87-9580-9332652dcdf6",
        "deepnote_to_be_reexecuted": false,
        "source_hash": "89ca2af0",
        "execution_millis": 14,
        "execution_start": 1615167704839,
        "deepnote_cell_type": "code",
        "colab": {
          "base_uri": "https://localhost:8080/"
        },
        "id": "FL6HKWKLjE6A",
        "outputId": "9df4a52c-3ab4-4248-c275-69d4966ba4f8"
      },
      "source": [
        "svc_preds_prob[:,1]"
      ],
      "execution_count": null,
      "outputs": [
        {
          "output_type": "execute_result",
          "data": {
            "text/plain": [
              "array([0.77621189, 0.22937074, 0.5       , 0.75807025, 0.66386947,\n",
              "       0.86888307, 0.88087767, 0.7937282 , 0.6918607 , 0.10008513,\n",
              "       0.66798612, 0.28736769, 0.3815453 , 0.2879819 , 0.54804646,\n",
              "       0.36679735, 0.3790928 , 0.69045392, 0.69047262, 0.03918644,\n",
              "       0.30921262, 0.8176574 , 0.72658849, 0.0566502 , 0.29129597,\n",
              "       0.83005601, 0.33953239, 0.36366478, 0.66176613, 0.32865191,\n",
              "       0.3413597 , 0.46132235, 0.95829638, 0.94628987, 0.80432669,\n",
              "       0.27853274, 0.84880898, 0.4698479 , 0.88633523, 0.38808812,\n",
              "       0.71166824, 0.80271403, 0.38455604, 0.68437824, 0.00443843,\n",
              "       0.88087767, 0.79223741, 0.69042655, 0.60946945, 0.76700563,\n",
              "       0.73347976, 0.93319117, 0.99483883, 0.72528681, 0.55939717,\n",
              "       0.93353185, 0.23768428, 0.0276228 , 0.34070997, 0.42439626,\n",
              "       0.31525731, 0.42071471, 0.94249716, 0.61207769, 0.66340217,\n",
              "       0.52991424, 0.67619421, 0.70490339, 0.29778759, 0.45796331,\n",
              "       0.23890783, 0.29381787, 0.21577431, 0.40738086, 0.45744319,\n",
              "       0.06199954, 0.74399544, 0.82757908, 0.50701669, 0.75641246,\n",
              "       0.8870156 , 0.23130258, 0.72996399, 0.04812575, 0.69045665,\n",
              "       0.74333198, 0.55496279, 0.25183196, 0.183636  , 0.68271991,\n",
              "       0.44897089, 0.4308584 , 0.93549568, 0.69045092, 0.3406807 ,\n",
              "       0.61458758, 0.21631206, 0.11577287, 0.87605725, 0.83668532,\n",
              "       0.94926331, 0.43162977, 0.06827273, 0.77513709, 0.75810636,\n",
              "       0.44747649, 0.29851593, 0.7726194 , 0.8021059 , 0.651422  ,\n",
              "       0.37145416, 0.88180965, 0.69964888, 0.67808869, 0.51881854,\n",
              "       0.2695088 , 0.36224351, 0.29620907, 0.61576552, 0.72358264,\n",
              "       0.5905765 , 0.29199664, 0.69045392, 0.69628357, 0.35205915,\n",
              "       0.29466628, 0.55040951, 0.50934294, 0.43205526, 0.36069173,\n",
              "       0.73820996, 0.29407445, 0.53819443, 0.20808987, 0.57672034,\n",
              "       0.80118202, 0.41796795, 0.47726675, 0.01191863, 0.44655925,\n",
              "       0.83308604, 0.89051432, 0.5       , 0.66333852, 0.5465182 ,\n",
              "       0.90048487, 0.39383698, 0.30270382, 0.6287909 , 0.79194689,\n",
              "       0.29397564, 0.45796331, 0.4127821 , 0.98333159, 0.79485093,\n",
              "       0.60174165, 0.34743922, 0.33068488, 0.80983235, 0.6127322 ,\n",
              "       0.44295662, 0.72008919, 0.72384453, 0.3407033 , 0.4689798 ,\n",
              "       0.96564888, 0.96745891, 0.91514169, 0.65016535, 0.34063931,\n",
              "       0.25065864, 0.90448439, 0.53296285, 0.98514535, 0.57517817,\n",
              "       0.10410299, 0.90298152, 0.61582372, 0.03459329, 0.87255549,\n",
              "       0.23281055, 0.59170247, 0.59562491, 0.5754719 , 0.39850072,\n",
              "       0.35867362, 0.74561162, 0.70092583, 0.31407442, 0.37956219,\n",
              "       0.38018939, 0.35215881, 0.82948292, 0.71331039, 0.67920594,\n",
              "       0.77193372, 0.40171937, 0.34067517, 0.85519539, 0.91521741,\n",
              "       0.39768932, 0.65664528, 0.55897848, 0.38247901, 0.01393297,\n",
              "       0.43999775, 0.50852058, 0.24082916, 0.27506514, 0.52960665,\n",
              "       0.26375345, 0.37939567, 0.69698257, 0.00259161, 0.27427289,\n",
              "       0.74355854, 0.46948384, 0.34063334, 0.57342271, 0.2141214 ,\n",
              "       0.34063694, 0.77758273, 0.35291444, 0.76161787, 0.82048592,\n",
              "       0.33741331, 0.38644653, 0.5448258 , 0.00889421, 0.34060779,\n",
              "       0.03970308, 0.70283927, 0.69043667, 0.59473936, 0.31361766,\n",
              "       0.57295027, 0.41473385, 0.11571226, 0.17212674, 0.2378601 ,\n",
              "       0.39468936, 0.65822511, 0.30341397, 0.85458656, 0.79740138,\n",
              "       0.34180748, 0.36724612, 0.46872686, 0.37437821, 0.44806535,\n",
              "       0.27440471, 0.92913309, 0.25540252, 0.29620907, 0.91959   ,\n",
              "       0.47909898, 0.94663945, 0.69042791, 0.79448057, 0.83965318,\n",
              "       0.34067075, 0.16174475, 0.67038663, 0.35282077, 0.62244052,\n",
              "       0.38029944, 0.60374528, 0.68296651, 0.88326715, 0.6069574 ,\n",
              "       0.33846473, 0.88027703, 0.75810636, 0.81864164, 0.5       ,\n",
              "       0.55484874, 0.34068369, 0.38455604, 0.69040954, 0.59327974,\n",
              "       0.77032113, 0.74607478, 0.91273737, 0.72758455, 0.45555409,\n",
              "       0.3787849 , 0.79749631, 0.74886119, 0.37182373, 0.81312383,\n",
              "       0.94041472, 0.34750368, 0.78130339, 0.62318797, 0.38420659,\n",
              "       0.92177036, 0.69157568, 0.91365009, 0.46158184, 0.85066759,\n",
              "       0.96583062, 0.35597001, 0.84364856, 0.85394181, 0.92311612,\n",
              "       0.42182664, 0.33813491, 0.89452169, 0.9193464 , 0.73728926,\n",
              "       0.35880459, 0.35291444, 0.77620073, 0.74420421, 0.47432288,\n",
              "       0.65103801, 0.66918372, 0.85943273, 0.37604695, 0.34575559])"
            ]
          },
          "metadata": {
            "tags": []
          },
          "execution_count": 15
        }
      ]
    },
    {
      "cell_type": "code",
      "metadata": {
        "tags": [],
        "cell_id": "00037-1969cddf-0c19-4023-96e6-3c407aa19a80",
        "deepnote_to_be_reexecuted": false,
        "source_hash": "73571764",
        "execution_millis": 20,
        "execution_start": 1615167708344,
        "deepnote_cell_type": "code",
        "colab": {
          "base_uri": "https://localhost:8080/"
        },
        "id": "QvjOcOBejE6A",
        "outputId": "5d94bb46-dd1d-4ae3-b3ab-f146040937a4"
      },
      "source": [
        "dt_preds_prob[:,1] "
      ],
      "execution_count": null,
      "outputs": [
        {
          "output_type": "execute_result",
          "data": {
            "text/plain": [
              "array([0.93103448, 0.        , 0.        , 1.        , 1.        ,\n",
              "       1.        , 0.96511628, 0.95384615, 0.        , 0.        ,\n",
              "       0.96511628, 0.        , 0.        , 0.        , 1.        ,\n",
              "       0.        , 0.        , 0.93103448, 1.        , 0.        ,\n",
              "       0.        , 0.8       , 1.        , 0.        , 0.        ,\n",
              "       0.5       , 0.        , 1.        , 1.        , 0.        ,\n",
              "       0.        , 0.        , 0.96511628, 0.98601399, 0.98601399,\n",
              "       0.        , 0.98601399, 0.        , 1.        , 0.625     ,\n",
              "       0.96511628, 0.96511628, 0.        , 1.        , 0.        ,\n",
              "       0.96511628, 1.        , 1.        , 1.        , 0.        ,\n",
              "       0.5       , 0.8       , 0.98601399, 0.96511628, 1.        ,\n",
              "       1.        , 0.96511628, 0.        , 0.        , 1.        ,\n",
              "       1.        , 0.        , 0.98601399, 0.28571429, 1.        ,\n",
              "       0.        , 0.5       , 1.        , 1.        , 0.96511628,\n",
              "       1.        , 0.        , 0.        , 0.        , 0.63636364,\n",
              "       0.        , 0.        , 1.        , 0.5       , 1.        ,\n",
              "       0.98601399, 0.        , 0.98601399, 0.        , 1.        ,\n",
              "       0.        , 1.        , 0.        , 0.        , 0.        ,\n",
              "       0.96511628, 0.28571429, 0.98601399, 1.        , 0.        ,\n",
              "       0.        , 0.        , 0.        , 0.83333333, 0.96511628,\n",
              "       0.98601399, 1.        , 0.        , 0.8       , 0.96511628,\n",
              "       0.57142857, 0.        , 0.        , 0.96511628, 0.        ,\n",
              "       0.        , 0.96511628, 0.95384615, 0.        , 0.        ,\n",
              "       0.        , 0.        , 0.        , 1.        , 0.98601399,\n",
              "       1.        , 0.        , 0.93103448, 1.        , 0.        ,\n",
              "       0.        , 0.        , 0.27272727, 0.        , 0.        ,\n",
              "       1.        , 0.        , 0.        , 0.        , 1.        ,\n",
              "       1.        , 0.8       , 0.        , 0.        , 0.28571429,\n",
              "       0.95384615, 0.96511628, 0.        , 0.        , 0.63636364,\n",
              "       0.93103448, 0.        , 0.        , 0.        , 1.        ,\n",
              "       0.        , 0.96511628, 0.8       , 1.        , 1.        ,\n",
              "       1.        , 0.        , 0.        , 0.96511628, 0.98601399,\n",
              "       0.96511628, 0.98601399, 0.96511628, 0.        , 1.        ,\n",
              "       0.        , 0.98601399, 0.98601399, 0.        , 0.        ,\n",
              "       0.27272727, 0.98601399, 1.        , 0.98601399, 1.        ,\n",
              "       0.        , 1.        , 0.        , 0.        , 0.98601399,\n",
              "       1.        , 0.95384615, 0.93103448, 0.93103448, 0.        ,\n",
              "       0.        , 0.        , 1.        , 0.        , 0.        ,\n",
              "       0.        , 0.        , 1.        , 1.        , 0.83333333,\n",
              "       1.        , 0.        , 0.        , 0.98601399, 1.        ,\n",
              "       0.95384615, 0.        , 1.        , 1.        , 0.        ,\n",
              "       0.        , 1.        , 0.        , 0.        , 0.98601399,\n",
              "       0.        , 0.95384615, 0.96511628, 0.        , 0.        ,\n",
              "       1.        , 0.95384615, 0.        , 0.        , 0.        ,\n",
              "       0.        , 0.98601399, 0.        , 0.96511628, 0.98601399,\n",
              "       0.        , 1.        , 0.        , 0.        , 0.        ,\n",
              "       0.        , 1.        , 1.        , 1.        , 0.        ,\n",
              "       1.        , 0.        , 0.        , 0.11764706, 0.        ,\n",
              "       1.        , 0.        , 0.        , 0.96511628, 0.95384615,\n",
              "       0.        , 0.        , 1.        , 0.        , 0.63636364,\n",
              "       0.        , 1.        , 0.        , 0.        , 1.        ,\n",
              "       1.        , 0.98601399, 0.98601399, 0.96511628, 0.96511628,\n",
              "       0.28571429, 0.        , 0.5       , 0.        , 1.        ,\n",
              "       0.        , 1.        , 0.98601399, 0.98601399, 0.93103448,\n",
              "       0.        , 0.98601399, 0.96511628, 0.95384615, 0.        ,\n",
              "       0.93103448, 0.        , 0.        , 1.        , 1.        ,\n",
              "       0.95384615, 0.98601399, 0.98601399, 0.98601399, 0.6       ,\n",
              "       0.        , 0.96511628, 0.95384615, 0.        , 0.95384615,\n",
              "       0.96511628, 0.        , 0.96511628, 0.        , 1.        ,\n",
              "       0.96511628, 1.        , 0.98601399, 0.11764706, 0.5       ,\n",
              "       0.98601399, 1.        , 1.        , 0.92307692, 0.95384615,\n",
              "       0.98601399, 0.        , 1.        , 1.        , 0.        ,\n",
              "       0.11764706, 0.        , 0.98601399, 0.8       , 0.        ,\n",
              "       0.98601399, 0.96511628, 0.96511628, 0.        , 0.        ])"
            ]
          },
          "metadata": {
            "tags": []
          },
          "execution_count": 16
        }
      ]
    },
    {
      "cell_type": "code",
      "metadata": {
        "tags": [],
        "cell_id": "00039-96c69c4e-6ec6-408c-aa1d-54b88758f85b",
        "deepnote_to_be_reexecuted": false,
        "source_hash": "132d57e0",
        "execution_millis": 10,
        "execution_start": 1615167712762,
        "deepnote_cell_type": "code",
        "colab": {
          "base_uri": "https://localhost:8080/"
        },
        "id": "Xq0xG-nZjE6B",
        "outputId": "a20941cc-c24e-4e22-d019-a681a77b72fc"
      },
      "source": [
        "knn_preds_prob[:,1]"
      ],
      "execution_count": null,
      "outputs": [
        {
          "output_type": "execute_result",
          "data": {
            "text/plain": [
              "array([0.9, 0.1, 0.7, 0.8, 0.5, 0.9, 1. , 1. , 0.6, 0. , 0.9, 0.6, 0. ,\n",
              "       0.2, 0.7, 0.4, 0.5, 0.8, 0.2, 0.1, 0.5, 0.9, 0.8, 0.3, 0.4, 0.9,\n",
              "       0.8, 0.5, 0.8, 0.4, 0. , 0.5, 0.9, 0.9, 0.9, 0.1, 1. , 0.5, 0.9,\n",
              "       0.2, 0.9, 0.9, 0.3, 0.9, 0. , 1. , 0.6, 0.9, 1. , 0.7, 0.6, 1. ,\n",
              "       0.9, 0.9, 0.8, 0.9, 0.1, 0. , 0.5, 0.3, 0.7, 0.1, 1. , 0.7, 0.2,\n",
              "       0.4, 0.8, 0.7, 0.3, 0.8, 0.3, 0.2, 0.4, 0.5, 0.5, 0.1, 0.7, 0.7,\n",
              "       0.7, 0.9, 1. , 0.1, 0.8, 0.1, 0.8, 0.9, 0.5, 0.1, 0.5, 0.5, 0.8,\n",
              "       0.7, 0.9, 0.5, 0.5, 0.6, 0.4, 0.2, 0.8, 0.9, 0.9, 0.6, 0.3, 0.6,\n",
              "       0.8, 0.7, 0.3, 0.6, 0.9, 0.8, 0.5, 1. , 0.8, 0.5, 0.4, 0.4, 0.2,\n",
              "       0. , 0.9, 0.8, 0.5, 0.1, 0.8, 0.5, 0.6, 0.7, 0.6, 0.5, 0.2, 0.2,\n",
              "       0.7, 0.1, 0.6, 0.5, 0.5, 1. , 0.9, 0.5, 0. , 0.8, 0.8, 0.9, 0.5,\n",
              "       0.6, 0.7, 0.9, 0.4, 0.4, 0. , 0.5, 0.5, 0.8, 0.5, 0.9, 0.7, 0.4,\n",
              "       0.5, 0.1, 0.7, 0.7, 0.6, 0.9, 1. , 0.7, 0.6, 0.3, 1. , 1. , 0.5,\n",
              "       0.9, 0.1, 0.9, 0.6, 1. , 0.9, 0.4, 0.5, 0.7, 0.1, 1. , 0.8, 0.7,\n",
              "       0.8, 0.6, 0.3, 0.4, 0.7, 0.9, 0.3, 0.2, 0.4, 0.5, 0.9, 1. , 0.7,\n",
              "       0.6, 0.7, 0.6, 1. , 0.9, 0.9, 0.7, 0.7, 0.3, 0.1, 0.6, 0.6, 0. ,\n",
              "       0.7, 0.8, 0.5, 0.7, 0.9, 0. , 0.3, 0.5, 0.3, 0.4, 0.4, 0.2, 0.6,\n",
              "       0.9, 0.4, 0.4, 1. , 0.4, 0.6, 0.7, 0. , 0.2, 0. , 0.6, 0.2, 0.4,\n",
              "       0.2, 0.7, 0.2, 0. , 0.3, 0.1, 0. , 0.6, 0.6, 1. , 0.8, 0.6, 0.5,\n",
              "       0.3, 0.4, 0.6, 0.5, 0.8, 0.1, 0. , 0.5, 0.5, 1. , 0.7, 1. , 0.8,\n",
              "       0.5, 0.2, 1. , 0.5, 0.3, 0.4, 0.5, 1. , 0.9, 0.6, 0. , 0.9, 0.8,\n",
              "       0.7, 0.5, 0.5, 0.1, 0.3, 0.6, 0.5, 0.9, 1. , 1. , 0.9, 0.7, 0.2,\n",
              "       0.7, 0.6, 0.1, 0.9, 0.9, 0.4, 1. , 0.7, 0.1, 0.9, 0.2, 1. , 0.3,\n",
              "       0.8, 1. , 0.7, 0.8, 1. , 0.8, 0.7, 0.1, 1. , 0.9, 0.4, 0.4, 0.4,\n",
              "       0.8, 0.6, 0.2, 0.8, 0.7, 1. , 0.4, 0.6])"
            ]
          },
          "metadata": {
            "tags": []
          },
          "execution_count": 17
        }
      ]
    },
    {
      "cell_type": "code",
      "metadata": {
        "tags": [],
        "cell_id": "00036-fb573f33-346c-439f-ac04-07c5353389c2",
        "deepnote_to_be_reexecuted": false,
        "source_hash": "17ba0812",
        "execution_millis": 37,
        "execution_start": 1615167715508,
        "deepnote_cell_type": "code",
        "colab": {
          "base_uri": "https://localhost:8080/"
        },
        "id": "ADglrCv6jE6B",
        "outputId": "09359d92-ccf8-47e6-ebbb-6ae39e1a6814"
      },
      "source": [
        "# Here is the number of unique positive predictions (class 1)\n",
        "print(color.BOLD + 'Number of elements in the positive class (class 1): ') \n",
        "\n",
        "print(color.BOLD + '\\nLogistic Regression: ') \n",
        "print(\"count:\", np.unique( lr_preds_prob[:,1]).shape) \n",
        "\n",
        "print(color.BLUE + '\\nSupport Vector Machine: ')\n",
        "print(\"count:\", np.unique( svc_preds_prob[:,1]).shape) \n",
        "\n",
        "print(color.RED + '\\nDecision Tree: ')\n",
        "print(\"count:\", np.unique( dt_preds_prob[:,1]).shape) \n",
        "\n",
        "print(color.PURPLE + '\\nKNearest Neighbors: ')\n",
        "print(\"count:\", np.unique( knn_preds_prob[:,1]).shape)"
      ],
      "execution_count": null,
      "outputs": [
        {
          "output_type": "stream",
          "text": [
            "\u001b[1mNumber of elements in the positive class (class 1): \n",
            "\u001b[1m\n",
            "Logistic Regression: \n",
            "count: (313,)\n",
            "\u001b[94m\n",
            "Support Vector Machine: \n",
            "count: (311,)\n",
            "\u001b[91m\n",
            "Decision Tree: \n",
            "count: (17,)\n",
            "\u001b[95m\n",
            "KNearest Neighbors: \n",
            "count: (11,)\n"
          ],
          "name": "stdout"
        }
      ]
    },
    {
      "cell_type": "markdown",
      "metadata": {
        "tags": [],
        "cell_id": "00038-3e588483-a48e-41cb-a331-a939cd5758d3",
        "deepnote_cell_type": "markdown",
        "id": "hOHYsy3SjE6A"
      },
      "source": [
        "-----\n",
        "**Q** What do you notice? Would this explain something you might have wondered about in the ROC and P-R plots?\n",
        "\n",
        "**A** "
      ]
    },
    {
      "cell_type": "markdown",
      "metadata": {
        "tags": [],
        "cell_id": "00039-4eca26c4-e3c8-4f41-a7f6-11871a3f701f",
        "deepnote_cell_type": "markdown",
        "id": "zLzpg-VTjE6B"
      },
      "source": [
        "## [F1 Score](https://scikit-learn.org/stable/modules/generated/sklearn.metrics.f1_score.html?highlight=f1_score#sklearn.metrics.f1_score)\n",
        "There are also composite scores that attempt to summarize the precision and recall; the most notable example is the F-measure or F1 score. It calculates the weighted average of precision and recall for a specific probability threshold (e.g. 0.5):\n",
        "\n",
        "**F1 = 2 x (Precision x Recall) / (Precision + Recall)**\n",
        "\n",
        "In the multi-class and multi-label case, we compute the average of the F1 score of each class with weighting depending on the `average` parameter.\n",
        "\n",
        "F1 Score is a good measure to use to seek a balance between precision and recall, especially if there is an uneven class distribution (e.g., large number of negatives).\n",
        "\n",
        "[Source](https://machinelearningmastery.com/roc-curves-and-precision-recall-curves-for-classification-in-python/)"
      ]
    },
    {
      "cell_type": "code",
      "metadata": {
        "tags": [],
        "cell_id": "00040-f17bdba9-f5de-4390-b4cd-40c69f6670aa",
        "deepnote_to_be_reexecuted": false,
        "source_hash": "fd105d1c",
        "execution_millis": 21,
        "execution_start": 1615167718463,
        "deepnote_cell_type": "code",
        "colab": {
          "base_uri": "https://localhost:8080/"
        },
        "id": "rIjBv1q1jE6B",
        "outputId": "2b0a040c-f43e-4d86-e779-e8fc839e4c82"
      },
      "source": [
        "# Printing F-1 scores for the different models\n",
        "print(color.BOLD + '\\nLogistic Regression: ') \n",
        "print(\"F1-Score: {0:0.5f}\".format(f1_score(y_test,lr_preds)))\n",
        "\n",
        "print(color.BLUE + '\\nSupport Vector Machine: ')\n",
        "print(\"F1-Score: {0:0.5f}\".format(f1_score(y_test,svc_preds)))\n",
        "\n",
        "print(color.RED + '\\nDecision Tree: ')\n",
        "print(\"F1-Score: {0:0.5f}\".format(f1_score(y_test,dt_preds)))\n",
        "\n",
        "print(color.PURPLE + '\\nKNearest Neighbors: ')\n",
        "print(\"F1-Score: {0:0.5f}\".format(f1_score(y_test,knn_preds)) + color.END)\n"
      ],
      "execution_count": null,
      "outputs": [
        {
          "output_type": "stream",
          "text": [
            "\u001b[1m\n",
            "Logistic Regression: \n",
            "F1-Score: 0.75568\n",
            "\u001b[94m\n",
            "Support Vector Machine: \n",
            "F1-Score: 0.75862\n",
            "\u001b[91m\n",
            "Decision Tree: \n",
            "F1-Score: 0.79656\n",
            "\u001b[95m\n",
            "KNearest Neighbors: \n",
            "F1-Score: 0.74576\u001b[0m\n"
          ],
          "name": "stdout"
        }
      ]
    },
    {
      "cell_type": "markdown",
      "metadata": {
        "id": "cJE7r0wCh78I"
      },
      "source": [
        "---\n",
        "**Q** How do the F1 scores compare with what you noticed before about the ROC and P-R curves? How do they compare with the accuracy scores? Does this change your mind about which model is best?\n",
        "\n",
        "**A** "
      ]
    },
    {
      "cell_type": "markdown",
      "metadata": {
        "tags": [],
        "cell_id": "00022-b010ba21-2617-4718-b4a2-9355047c9efb",
        "deepnote_cell_type": "markdown",
        "id": "G1CkC9CMjE6B"
      },
      "source": [
        "# [Cross-Validation and Grid Search](https://scikit-learn.org/stable/modules/generated/sklearn.model_selection.GridSearchCV.html)\n",
        "\n",
        "A model **hyperparameter** is a characteristic of a model that is external to the model and whose value cannot be estimated from data. The value of the hyperparameter has to be set before the learning process begins. For example, C in Support Vector Machines, k in k-Nearest Neighbors, the depth of the tree for decision trees, etc.\n",
        "\n",
        "We can use cross-validation and grid search to find the optimal hyperparameters of a model which results in the most ‘accurate’ predictions. Grid search builds a model for every combination of the hyperparameters we specify and evaluates each model. The grid search provided by GridSearchCV() exhaustively generates candidates from a grid of parameter values specified with the `param_grid` parameter. \n",
        "\n",
        "Remember that in Part 1 we had split the data into training and test sets using an 80% / 20% split. For cross validation, we will use the full datasets again, i.e., `X` for the features and `Y` for the predicted binary variable `quality`."
      ]
    },
    {
      "cell_type": "markdown",
      "metadata": {
        "tags": [],
        "cell_id": "00040-7decfb1b-adfd-4cc1-a0ae-95d0e3e1c5f7",
        "deepnote_cell_type": "markdown",
        "id": "i7peYUC4jE6B"
      },
      "source": [
        "## [Support Vector Machine](https://scikit-learn.org/stable/modules/generated/sklearn.svm.SVC.html#sklearn.svm.SVC)\n",
        "\n",
        "As you know from Chapter 3 in the ML book and the lecture video (on Canvas), SVMs have two important hyperparamters. One is the **kernel** that we apply to the data to deal with non-linear decision boundaries. Popular choices are `linear` to use a linear hpyerplane as the decision boundary and `rbf` to transform the data using a [radial basis function kernel](https://en.wikipedia.org/wiki/Radial_basis_function_kernel). \n",
        "\n",
        "The hyperparameter **C** determines the tradeoff between increasing the size of the decision boundary (i.e., its margin) and making sure each examples is classified correctly (accuracy). C is a *regularization* parameter, where the strength of the regularization is inversely proportional to C. **Regularization** is an umbrella term that encompasses methods that force the learning algorithm to build a less complex model. In practice, that oftern leads to slighly higher bias but significantly reduces the variance. \n",
        "\n",
        "We are now going to use using grid search to find optimal values for `kernel` and `C`. \n"
      ]
    },
    {
      "cell_type": "code",
      "metadata": {
        "tags": [],
        "cell_id": "00040-04045c4e-e663-4501-8fdb-87a6164d3a16",
        "deepnote_to_be_reexecuted": false,
        "source_hash": "6b631b59",
        "execution_millis": 10931,
        "execution_start": 1615167722682,
        "deepnote_cell_type": "code",
        "id": "vsiaWPI4jE6B"
      },
      "source": [
        "# We search over SVM kernels (linear or RBF) and values of C (1, 10, or 100).\n",
        "param_grid = {'kernel':('linear', 'rbf'), 'C':[1, 10, 100]}\n",
        "\n",
        "# Defining our model\n",
        "svc = SVC()\n",
        "\n",
        "# Initializing grid search\n",
        "clf = GridSearchCV(svc, param_grid, n_jobs=-1 ) # n_jobs=-1 will utilize all the processors\n",
        "\n",
        "# Fitting the model to the full feature data X and predicted variable Y\n",
        "# Note: the grid search is actually run when you call GridSearchCV.fit()\n",
        "clf.fit(StandardScaler().fit_transform(X), Y);\n"
      ],
      "execution_count": null,
      "outputs": []
    },
    {
      "cell_type": "markdown",
      "metadata": {
        "tags": [],
        "cell_id": "00042-6a5f0d28-3a44-48d9-86c6-8ca5d19cd6bb",
        "deepnote_cell_type": "markdown",
        "id": "LkTUHDx6jE6C"
      },
      "source": [
        "**Q** Read [documentation](https://scikit-learn.org/stable/modules/generated/sklearn.model_selection.GridSearchCV.html) and find out what type of cross validation strategy GridSearchCV() uses. \n",
        "\n",
        "**A** "
      ]
    },
    {
      "cell_type": "code",
      "metadata": {
        "tags": [],
        "cell_id": "00043-4dffde54-b806-49e6-abf5-3c3315e1e000",
        "deepnote_to_be_reexecuted": false,
        "source_hash": "8ff9a5c5",
        "execution_millis": 20,
        "execution_start": 1615167733622,
        "deepnote_cell_type": "code",
        "colab": {
          "base_uri": "https://localhost:8080/",
          "height": 235
        },
        "id": "XsJ95UjKjE6C",
        "outputId": "9e3b0c1b-78ad-4410-d4cd-1fe88b9af3c1"
      },
      "source": [
        "# Gather grid search information stored in `clf.cv_results_` into a dataframe\n",
        "grid_df = pd.DataFrame(clf.cv_results_['params'])\n",
        "grid_df['mean_test_score'] = clf.cv_results_['mean_test_score']\n",
        "grid_df['plot_label'] = 'C:' + grid_df.C.astype('str') + ' Kernel: ' + grid_df.kernel\n",
        "grid_df = grid_df.sort_values('mean_test_score')\n",
        "# Display the dataframe\n",
        "grid_df"
      ],
      "execution_count": null,
      "outputs": [
        {
          "output_type": "execute_result",
          "data": {
            "text/html": [
              "<div>\n",
              "<style scoped>\n",
              "    .dataframe tbody tr th:only-of-type {\n",
              "        vertical-align: middle;\n",
              "    }\n",
              "\n",
              "    .dataframe tbody tr th {\n",
              "        vertical-align: top;\n",
              "    }\n",
              "\n",
              "    .dataframe thead th {\n",
              "        text-align: right;\n",
              "    }\n",
              "</style>\n",
              "<table border=\"1\" class=\"dataframe\">\n",
              "  <thead>\n",
              "    <tr style=\"text-align: right;\">\n",
              "      <th></th>\n",
              "      <th>C</th>\n",
              "      <th>kernel</th>\n",
              "      <th>mean_test_score</th>\n",
              "      <th>plot_label</th>\n",
              "    </tr>\n",
              "  </thead>\n",
              "  <tbody>\n",
              "    <tr>\n",
              "      <th>5</th>\n",
              "      <td>100</td>\n",
              "      <td>rbf</td>\n",
              "      <td>0.668527</td>\n",
              "      <td>C:100 Kernel: rbf</td>\n",
              "    </tr>\n",
              "    <tr>\n",
              "      <th>3</th>\n",
              "      <td>10</td>\n",
              "      <td>rbf</td>\n",
              "      <td>0.717951</td>\n",
              "      <td>C:10 Kernel: rbf</td>\n",
              "    </tr>\n",
              "    <tr>\n",
              "      <th>4</th>\n",
              "      <td>100</td>\n",
              "      <td>linear</td>\n",
              "      <td>0.719212</td>\n",
              "      <td>C:100 Kernel: linear</td>\n",
              "    </tr>\n",
              "    <tr>\n",
              "      <th>2</th>\n",
              "      <td>10</td>\n",
              "      <td>linear</td>\n",
              "      <td>0.720462</td>\n",
              "      <td>C:10 Kernel: linear</td>\n",
              "    </tr>\n",
              "    <tr>\n",
              "      <th>0</th>\n",
              "      <td>1</td>\n",
              "      <td>linear</td>\n",
              "      <td>0.721087</td>\n",
              "      <td>C:1 Kernel: linear</td>\n",
              "    </tr>\n",
              "    <tr>\n",
              "      <th>1</th>\n",
              "      <td>1</td>\n",
              "      <td>rbf</td>\n",
              "      <td>0.737332</td>\n",
              "      <td>C:1 Kernel: rbf</td>\n",
              "    </tr>\n",
              "  </tbody>\n",
              "</table>\n",
              "</div>"
            ],
            "text/plain": [
              "     C  kernel  mean_test_score            plot_label\n",
              "5  100     rbf         0.668527     C:100 Kernel: rbf\n",
              "3   10     rbf         0.717951      C:10 Kernel: rbf\n",
              "4  100  linear         0.719212  C:100 Kernel: linear\n",
              "2   10  linear         0.720462   C:10 Kernel: linear\n",
              "0    1  linear         0.721087    C:1 Kernel: linear\n",
              "1    1     rbf         0.737332       C:1 Kernel: rbf"
            ]
          },
          "metadata": {
            "tags": []
          },
          "execution_count": 21
        }
      ]
    },
    {
      "cell_type": "markdown",
      "metadata": {
        "tags": [],
        "cell_id": "00048-922fea8d-b943-4417-957d-d6bacdd639eb",
        "deepnote_cell_type": "markdown",
        "id": "k6tT0ONCjE6C"
      },
      "source": [
        "**Q** Look at the documentation of the results returned in `cv_results_` by [GridSearchCV](https://scikit-learn.org/stable/modules/generated/sklearn.model_selection.GridSearchCV.html) and do some internet sleuthing (e.g., on [StackOverflow](https://stackoverflow.com/), a great community forum for programmers). How exactly is `mean_test_score` computed, and what other information does `cv_results_` provide?\n",
        "\n",
        "**A** "
      ]
    },
    {
      "cell_type": "code",
      "metadata": {
        "tags": [],
        "cell_id": "00043-7b8e5f92-bbfc-4c98-9482-c941f3bdb0eb",
        "deepnote_to_be_reexecuted": false,
        "source_hash": "9bf9ec20",
        "execution_millis": 283,
        "execution_start": 1615167737663,
        "deepnote_cell_type": "code",
        "colab": {
          "base_uri": "https://localhost:8080/",
          "height": 483
        },
        "id": "8kO9vQh6jE6C",
        "outputId": "9a96514f-b305-4ebb-c119-7ba0f7d1e04c"
      },
      "source": [
        "# Let's display the mean test scores as a bar chart\n",
        "fig, ax = plt.subplots(figsize=(9,6))\n",
        "p = sns.barplot(x='plot_label', y='mean_test_score', data=grid_df,ax=ax, palette=\"Blues_d\")\n",
        "p.set_xticklabels(labels=grid_df.plot_label,rotation=60);\n",
        "p.set_xlabel(\"SVM Parameters\");\n",
        "p.set_ylabel(\"Mean test score\"); # Notice the semicolon, this avoids extraneous output"
      ],
      "execution_count": null,
      "outputs": [
        {
          "output_type": "display_data",
          "data": {
            "image/png": "[encoded data removed]",
            "text/plain": [
              "<Figure size 648x432 with 1 Axes>"
            ]
          },
          "metadata": {
            "tags": [],
            "needs_background": "light"
          }
        }
      ]
    },
    {
      "cell_type": "markdown",
      "metadata": {
        "tags": [],
        "cell_id": "00045-efaeb442-d067-4b79-982d-0738250a865a",
        "deepnote_cell_type": "markdown",
        "id": "84kgszZejE6C"
      },
      "source": [
        "**Q** What do you notice? What do you wonder? What are the optimal SVM hyperparameters for this data?\n",
        "\n",
        "**A** "
      ]
    },
    {
      "cell_type": "markdown",
      "metadata": {
        "tags": [],
        "cell_id": "00051-efb24e91-642c-4f37-8c9c-9058919e5f94",
        "deepnote_cell_type": "markdown",
        "id": "ktLHXACpjE6C"
      },
      "source": [
        "### KNN\n",
        "\n",
        "As you know from Chapter 3 in the ML book and the lecture video (on Canvas), KNN also has two important hyperparamters. The first one is the value of **k**, the number of nearest neighbors for each example in the test data. The second is the **distance metric** that we use to find the k-nearest neighbors. There are [many choices](https://scikit-learn.org/stable/modules/generated/sklearn.neighbors.DistanceMetric.html) for distance metrics in machine learning. We are going to use the [Minkowski](https://en.wikipedia.org/wiki/Minkowski_distance) norm. Mikowski is known as the Lp norm, and it is a generalization of the [Manhattan](https://en.wikipedia.org/wiki/Taxicab_geometry) (L1) and [Euclidan](https://en.wikipedia.org/wiki/Euclidean_distance) (L2) norms. The parameter p changes the shape of the distance metric as shown here:\n",
        "\n",
        "[](https://en.wikipedia.org/wiki/File:2D_unit_balls.svg)\n",
        "\n",
        "Similar to the SVM model, we are going to use grid search to find the optimal value of k and p (for the Lp norm) for our data.\n",
        "\n",
        "KNN is sensitive to differences in scales between the features, so we have to standardize the data first. This will lead to [data leakage](https://scikit-learn.org/stable/common_pitfalls.html#data-leakage-during-pre-processing), which occurs when information that would not be available at prediction time is used when building the model. \n",
        "\n",
        "A common cause is not keeping the test and train data subsets separate. Test data should never be used to make choices about the model. The general rule is to never call fit on the test data. While this may sound obvious, this is easy to miss in some cases, for example when applying certain pre-processing steps. To prevent data leakage, it is good practice to split your data into train and test subsets first. Feature selection can then be formed using just the train dataset. Notice that whenever we use fit or fit_transform, we only use the train dataset. ([Source](https://scikit-learn.org/stable/common_pitfalls.html#data-leakage-during-pre-processing))\n",
        "\n",
        "So in our case we are using the full data (X, Y) for cross validation we will have data leakage. We had the same issue above when doing cross-validation for the SVM model. To avoid this, we should be using [scikit-learn pipelines](https://scikit-learn.org/stable/modules/generated/sklearn.pipeline.Pipeline.html), which are an advanced topic. For pedagogical purposes we are keeping it simple."
      ]
    },
    {
      "cell_type": "markdown",
      "metadata": {
        "tags": [],
        "cell_id": "00055-9128496d-1b15-4a62-80a8-0041f97a908a",
        "deepnote_cell_type": "markdown",
        "id": "EaeysGnejE6D"
      },
      "source": [
        "---\n",
        "**Q** What is the proper procedure to avoid feature leakage in your final projects ?\n",
        "\n",
        "**A** "
      ]
    },
    {
      "cell_type": "code",
      "metadata": {
        "tags": [],
        "cell_id": "00051-42ba2346-9e4e-40c3-9589-599fc6fd6e2f",
        "deepnote_to_be_reexecuted": false,
        "source_hash": "4b8c2192",
        "execution_millis": 19939,
        "execution_start": 1615167742222,
        "deepnote_cell_type": "code",
        "id": "2YxArUvEjE6C"
      },
      "source": [
        "# We search over these discrete values of k\n",
        "n_list = [50,100,200,300]\n",
        " \n",
        "# Power parameter p for the Minkowski metric (Lp). When p = 1, this is equivalent to using manhattan_distance (L1), \n",
        "# and euclidean_distance (L2) for p = 2. For arbitrary p, minkowski_distance (Lp) is used. \n",
        "p_list = [1, 1.4, 2, 2.8, 4, 10 ] \n",
        "\n",
        "param_grid = {'n_neighbors': n_list, 'p': p_list}\n",
        "\n",
        "# Defining our model\n",
        "knn_clf = KNeighborsClassifier()\n",
        "\n",
        "# Initializing grid search\n",
        "clf = GridSearchCV(knn_clf, param_grid,n_jobs=-1,cv=10)\n",
        "\n",
        "# KNN is sensitive to differences in scales between the features, so we have to standardize.\n",
        "# Since our dataset is small and we have only one hyperparameter, this will run a lot faster \n",
        "# than grid search for SVM\n",
        "clf.fit(StandardScaler().fit_transform(X), Y);"
      ],
      "execution_count": null,
      "outputs": []
    },
    {
      "cell_type": "code",
      "metadata": {
        "tags": [],
        "cell_id": "00055-5cf0fe0c-f9aa-4a30-8c6b-e7c38afab8d8",
        "deepnote_to_be_reexecuted": false,
        "source_hash": "451d61a5",
        "execution_millis": 651,
        "execution_start": 1615167765645,
        "deepnote_cell_type": "code",
        "colab": {
          "base_uri": "https://localhost:8080/",
          "height": 642
        },
        "id": "h3DMftedjE6D",
        "outputId": "cb4c6add-4dc5-4a14-f384-0cc79a54e6d9"
      },
      "source": [
        "all_scores = []\n",
        "for i in range(10): \n",
        "    key = 'split'+str(i)+'_test_score'\n",
        "    all_scores.append(clf.cv_results_[key])\n",
        "\n",
        "# Add back the column names\n",
        "col_names = []\n",
        "for i in n_list: \n",
        "    for j in p_list:\n",
        "        col_names.append(\"K=\" +str(i)+' p='+str(j))\n",
        "\n",
        "\n",
        "# Add column names to a dataframe\n",
        "df_boxplot = pd.DataFrame(all_scores,columns=col_names)\n",
        "\n",
        "# Use df_boxplot to create our plot\n",
        "plt.figure(figsize=(10,10))\n",
        "\n",
        "plt.title('Grid Search Boxplot (KNN) - Accuracy vs. Parameters\\n')\n",
        "\n",
        "df_boxplot = pd.DataFrame(df_boxplot).melt()\n",
        "\n",
        "df_boxplot.columns = ['KNN Parameters','Accuracy']\n",
        "df_boxplot['mean_col'] = df_boxplot.groupby('KNN Parameters').transform(np.mean)  \n",
        "df_boxplot = df_boxplot.sort_values('mean_col',ascending=False)\n",
        "df_boxplot.drop('mean_col',axis=1,inplace=True)\n",
        "\n",
        "sns.boxplot(y='KNN Parameters' , x='Accuracy',data = df_boxplot, showmeans=True,palette='vlag', orient='h');\n",
        "\n"
      ],
      "execution_count": null,
      "outputs": [
        {
          "output_type": "display_data",
          "data": {
            "image/png": "[encoded data removed]",
            "text/plain": [
              "<Figure size 720x720 with 1 Axes>"
            ]
          },
          "metadata": {
            "tags": [],
            "needs_background": "light"
          }
        }
      ]
    },
    {
      "cell_type": "markdown",
      "metadata": {
        "tags": [],
        "cell_id": "00057-32e5c879-1b3d-49bc-b792-bc8f1179f14c",
        "deepnote_cell_type": "markdown",
        "id": "-fjmgVlYjE6D"
      },
      "source": [
        "**Q** What are the optimal hyperparameter values, and why? Does this surprise you?\n",
        "\n",
        "**A** "
      ]
    },
    {
      "cell_type": "markdown",
      "metadata": {
        "tags": [],
        "cell_id": "00043-8f536e4f-f0f7-4498-80a0-7eb14a350814",
        "deepnote_cell_type": "markdown",
        "id": "R5UHBmgQjE6D"
      },
      "source": [
        "### [Decision Tree Classifier](https://scikit-learn.org/stable/modules/generated/sklearn.tree.DecisionTreeClassifier.html)\n",
        "\n",
        "We are now going to find the optimal tree depth for our decision tree classifier using grid search and 10-fold cross-validation. We will use **pruning**, which reduces the size of decision trees by removing sections of the tree that are non-critical and redundant to classify instances. Pruning reduces the complexity of the final classifier, and hence improves predictive accuracy by the reduction of overfitting.\n",
        "\n",
        "One of the questions that arises in a decision tree algorithm is the optimal size of the final tree. A tree that is too large risks overfitting the training data and poorly generalizing to new samples. A small tree might not capture important structural information about the sample space. However, it is hard to tell when a tree algorithm should stop because it is impossible to tell if the addition of a single extra node will dramatically decrease error. A common strategy is to grow the tree until each node contains a small number of instances then use pruning to remove nodes that do not provide additional information. ([Source](https://en.wikipedia.org/wiki/Decision_tree_pruning))\n",
        "\n",
        "In our case, since our data is relatively small, we will train different decision tree models by varying their maximum depth.  "
      ]
    },
    {
      "cell_type": "code",
      "metadata": {
        "tags": [],
        "cell_id": "00043-77df5463-15ab-4d23-b649-8077ddcc87f6",
        "deepnote_to_be_reexecuted": false,
        "source_hash": "16a157dc",
        "execution_millis": 677,
        "execution_start": 1615167770930,
        "deepnote_cell_type": "code",
        "id": "RCQH4anvjE6D"
      },
      "source": [
        "# We change the maximum tree depth (max_depth) using 10-fold cross validation.\n",
        "scores = []\n",
        "\n",
        "# Check tree depths in the range [2, 20]\n",
        "for depth in np.arange(2,21):\n",
        "    # Initialize the decision tree\n",
        "    dt_clf = DecisionTreeClassifier(max_depth=depth, random_state=10)\n",
        "\n",
        "    # We are using the cross_val_score() function for 10-fold CV\n",
        "    # The default scoring metric is accuracy\n",
        "    score_list = cross_val_score(dt_clf, X, Y, cv=10)  \n",
        "    scores.append(score_list)\n"
      ],
      "execution_count": null,
      "outputs": []
    },
    {
      "cell_type": "markdown",
      "metadata": {
        "tags": [],
        "cell_id": "00053-b7813be9-5d68-47d1-945a-e6ff4e18e190",
        "deepnote_cell_type": "markdown",
        "id": "V9dbZn_hjE6D"
      },
      "source": [
        "---\n",
        "**Q** What are the reasons to prune a decision tree in terms of the bias-variance tradeoff?\n",
        "\n",
        "**A** "
      ]
    },
    {
      "cell_type": "code",
      "metadata": {
        "tags": [],
        "cell_id": "00053-58f5424c-7063-4dfe-9246-cbe5fbe4b749",
        "deepnote_to_be_reexecuted": false,
        "source_hash": "6d0f0e0b",
        "execution_millis": 335,
        "execution_start": 1615167773983,
        "deepnote_cell_type": "code",
        "colab": {
          "base_uri": "https://localhost:8080/",
          "height": 339
        },
        "id": "kAG8QQ2ojE6D",
        "outputId": "66ffe1f6-2237-4b18-d951-d6162c6fb0bc"
      },
      "source": [
        "# Draw box and whisker plots of the accuracy scores for each tree depth\n",
        "# https://seaborn.pydata.org/generated/seaborn.boxplot.html \n",
        "# Plot shows median (line), mean (triangle), and quartiles (box, 25%/50%)\n",
        "# Whiskers show extent of the data distribution, dark dots (diamonds) show outliers\n",
        "plt.figure(figsize=(14,5))\n",
        "df_boxplot = pd.DataFrame(scores).T.melt()\n",
        "df_boxplot.columns = ['max_depth','Accuracy']\n",
        "df_boxplot['max_depth'] = (df_boxplot['max_depth']+2)\n",
        "sns.boxplot(x='max_depth' , y='Accuracy',data = df_boxplot, showmeans=True,palette='husl');"
      ],
      "execution_count": null,
      "outputs": [
        {
          "output_type": "display_data",
          "data": {
            "image/png": "[encoded data removed]",
            "text/plain": [
              "<Figure size 1008x360 with 1 Axes>"
            ]
          },
          "metadata": {
            "tags": [],
            "needs_background": "light"
          }
        }
      ]
    },
    {
      "cell_type": "code",
      "metadata": {
        "tags": [],
        "cell_id": "00046-09bac486-178f-4e4c-ab3b-138d0ffaaa34",
        "deepnote_to_be_reexecuted": false,
        "source_hash": "b65184f6",
        "execution_millis": 27,
        "execution_start": 1615167779392,
        "deepnote_cell_type": "code",
        "colab": {
          "base_uri": "https://localhost:8080/",
          "height": 638
        },
        "id": "B5cuWWB2jE6D",
        "outputId": "7e5799ba-ee9d-486e-9713-89dc31e3d276"
      },
      "source": [
        "# Print the values for mean accuracy and std_dev as well\n",
        "tree_scores = pd.DataFrame([np.arange(2,21), np.mean(scores,axis=1), np.std(scores,axis=1)]).T\n",
        "tree_scores.columns = ['max_depth', 'accuracy', 'std_dev']\n",
        "tree_scores.sort_values('max_depth',ascending=True).iloc[0:20,]"
      ],
      "execution_count": null,
      "outputs": [
        {
          "output_type": "execute_result",
          "data": {
            "text/html": [
              "<div>\n",
              "<style scoped>\n",
              "    .dataframe tbody tr th:only-of-type {\n",
              "        vertical-align: middle;\n",
              "    }\n",
              "\n",
              "    .dataframe tbody tr th {\n",
              "        vertical-align: top;\n",
              "    }\n",
              "\n",
              "    .dataframe thead th {\n",
              "        text-align: right;\n",
              "    }\n",
              "</style>\n",
              "<table border=\"1\" class=\"dataframe\">\n",
              "  <thead>\n",
              "    <tr style=\"text-align: right;\">\n",
              "      <th></th>\n",
              "      <th>max_depth</th>\n",
              "      <th>accuracy</th>\n",
              "      <th>std_dev</th>\n",
              "    </tr>\n",
              "  </thead>\n",
              "  <tbody>\n",
              "    <tr>\n",
              "      <th>0</th>\n",
              "      <td>2.0</td>\n",
              "      <td>0.681678</td>\n",
              "      <td>0.093006</td>\n",
              "    </tr>\n",
              "    <tr>\n",
              "      <th>1</th>\n",
              "      <td>3.0</td>\n",
              "      <td>0.677932</td>\n",
              "      <td>0.062906</td>\n",
              "    </tr>\n",
              "    <tr>\n",
              "      <th>2</th>\n",
              "      <td>4.0</td>\n",
              "      <td>0.696694</td>\n",
              "      <td>0.079035</td>\n",
              "    </tr>\n",
              "    <tr>\n",
              "      <th>3</th>\n",
              "      <td>5.0</td>\n",
              "      <td>0.691686</td>\n",
              "      <td>0.060512</td>\n",
              "    </tr>\n",
              "    <tr>\n",
              "      <th>4</th>\n",
              "      <td>6.0</td>\n",
              "      <td>0.685401</td>\n",
              "      <td>0.072807</td>\n",
              "    </tr>\n",
              "    <tr>\n",
              "      <th>5</th>\n",
              "      <td>7.0</td>\n",
              "      <td>0.691061</td>\n",
              "      <td>0.075043</td>\n",
              "    </tr>\n",
              "    <tr>\n",
              "      <th>6</th>\n",
              "      <td>8.0</td>\n",
              "      <td>0.666034</td>\n",
              "      <td>0.078850</td>\n",
              "    </tr>\n",
              "    <tr>\n",
              "      <th>7</th>\n",
              "      <td>9.0</td>\n",
              "      <td>0.656651</td>\n",
              "      <td>0.077271</td>\n",
              "    </tr>\n",
              "    <tr>\n",
              "      <th>8</th>\n",
              "      <td>10.0</td>\n",
              "      <td>0.634764</td>\n",
              "      <td>0.082390</td>\n",
              "    </tr>\n",
              "    <tr>\n",
              "      <th>9</th>\n",
              "      <td>11.0</td>\n",
              "      <td>0.640385</td>\n",
              "      <td>0.074302</td>\n",
              "    </tr>\n",
              "    <tr>\n",
              "      <th>10</th>\n",
              "      <td>12.0</td>\n",
              "      <td>0.644123</td>\n",
              "      <td>0.078182</td>\n",
              "    </tr>\n",
              "    <tr>\n",
              "      <th>11</th>\n",
              "      <td>13.0</td>\n",
              "      <td>0.638518</td>\n",
              "      <td>0.064790</td>\n",
              "    </tr>\n",
              "    <tr>\n",
              "      <th>12</th>\n",
              "      <td>14.0</td>\n",
              "      <td>0.637893</td>\n",
              "      <td>0.060008</td>\n",
              "    </tr>\n",
              "    <tr>\n",
              "      <th>13</th>\n",
              "      <td>15.0</td>\n",
              "      <td>0.641655</td>\n",
              "      <td>0.057326</td>\n",
              "    </tr>\n",
              "    <tr>\n",
              "      <th>14</th>\n",
              "      <td>16.0</td>\n",
              "      <td>0.648526</td>\n",
              "      <td>0.056260</td>\n",
              "    </tr>\n",
              "    <tr>\n",
              "      <th>15</th>\n",
              "      <td>17.0</td>\n",
              "      <td>0.646038</td>\n",
              "      <td>0.059383</td>\n",
              "    </tr>\n",
              "    <tr>\n",
              "      <th>16</th>\n",
              "      <td>18.0</td>\n",
              "      <td>0.646038</td>\n",
              "      <td>0.059383</td>\n",
              "    </tr>\n",
              "    <tr>\n",
              "      <th>17</th>\n",
              "      <td>19.0</td>\n",
              "      <td>0.646647</td>\n",
              "      <td>0.059677</td>\n",
              "    </tr>\n",
              "    <tr>\n",
              "      <th>18</th>\n",
              "      <td>20.0</td>\n",
              "      <td>0.646647</td>\n",
              "      <td>0.059677</td>\n",
              "    </tr>\n",
              "  </tbody>\n",
              "</table>\n",
              "</div>"
            ],
            "text/plain": [
              "    max_depth  accuracy   std_dev\n",
              "0         2.0  0.681678  0.093006\n",
              "1         3.0  0.677932  0.062906\n",
              "2         4.0  0.696694  0.079035\n",
              "3         5.0  0.691686  0.060512\n",
              "4         6.0  0.685401  0.072807\n",
              "5         7.0  0.691061  0.075043\n",
              "6         8.0  0.666034  0.078850\n",
              "7         9.0  0.656651  0.077271\n",
              "8        10.0  0.634764  0.082390\n",
              "9        11.0  0.640385  0.074302\n",
              "10       12.0  0.644123  0.078182\n",
              "11       13.0  0.638518  0.064790\n",
              "12       14.0  0.637893  0.060008\n",
              "13       15.0  0.641655  0.057326\n",
              "14       16.0  0.648526  0.056260\n",
              "15       17.0  0.646038  0.059383\n",
              "16       18.0  0.646038  0.059383\n",
              "17       19.0  0.646647  0.059677\n",
              "18       20.0  0.646647  0.059677"
            ]
          },
          "metadata": {
            "tags": []
          },
          "execution_count": 28
        }
      ]
    },
    {
      "cell_type": "markdown",
      "metadata": {
        "tags": [],
        "cell_id": "00047-3351c6d5-8b32-479f-88ad-194c4afc7f59",
        "deepnote_cell_type": "markdown",
        "id": "lJLC23xPjE6E"
      },
      "source": [
        "**Q** What optimal tree depth would you choose, and why? Is there anything that surprises you about the plot and data?\n",
        "\n",
        "**A** \n",
        "\n"
      ]
    },
    {
      "cell_type": "markdown",
      "metadata": {
        "tags": [],
        "cell_id": "00059-82a2f429-f365-4c34-b084-dcc8c97418b2",
        "deepnote_cell_type": "markdown",
        "id": "LaFgRnQ8jE6E"
      },
      "source": [
        "-----\n",
        "**Q** What effect on these results would a small change in training data have?\n",
        "\n",
        "**A** "
      ]
    },
    {
      "cell_type": "markdown",
      "metadata": {
        "id": "dhwIjxwrbtl1"
      },
      "source": [
        "## Effects of Optimal Hyperparameters\n",
        "\n",
        "You are now going to look at the effects of hyperparameter tuning on the error metrics and plots you created so far. From this point on we are only going to consider the SVM, kNN, and decision tree models."
      ]
    },
    {
      "cell_type": "markdown",
      "metadata": {
        "id": "2YBNWFaKQ2fD"
      },
      "source": [
        "---\n",
        "**Q** In your solutions Google doc, collect all of the error metrics (accuracy, F1) and plots (confusion matrix, ROC curves, P-R curves) for the different classification models **before and after** hyperparameter tuning by following these steps:\n",
        "\n",
        "**Before:** Create a title called \"Before Hyperparameter Tuning\" in your Google doc.\n",
        "- Go back to the \"Basic ML Models\" at the beginning of the notebook \n",
        "- Capture the hyperparameters for each model by copy / pasting their initialization code (one line) into the Google doc\n",
        "- Save all of the error metrics and plots *before* \"Cross-Validation and Grid Search\"\n",
        "- Write down the optimal hyperparamters for each model *after* \"Cross-Validation and Grid Search\"\n",
        "\n",
        "**After:** Create a title called \"After Hyperparameter Tuning\" in your Google doc.\n",
        "- Go back to the \"Basic ML Models\" and change the hyperparameters of each model to their optimal values\n",
        "- Capture the new hyperparameters for each model by copy / pasting their initialization code (one line) into the Google doc\n",
        "- Re-run the code to train each model in \"Basic ML Models\"\n",
        "- Re-run the \"Model Error Metrics\" part of the notebook and capture the new error metrics and plots in your Google doc\n",
        "\n",
        "How did the error metrics and plots change for each model? Describe the changes in a short paragraph in your Google doc. It may be easier to put the respective plots next to each other for comparison. Make sure to clearly label everything.\n",
        "\n",
        "**A** Put your answers into a solutions Google doc.\n"
      ]
    },
    {
      "cell_type": "markdown",
      "metadata": {
        "tags": [],
        "cell_id": "00066-38c87486-b35c-4edb-9f04-da91778ecb76",
        "deepnote_cell_type": "markdown",
        "id": "SA09_oz0jE6E"
      },
      "source": [
        "# Advanced Topics"
      ]
    },
    {
      "cell_type": "markdown",
      "metadata": {
        "tags": [],
        "cell_id": "00059-c16a86e2-5727-4efc-a301-589570a9a6e1",
        "deepnote_cell_type": "markdown",
        "id": "xD7tSTnQjE6E"
      },
      "source": [
        "## Feature Importance (Decision Tree Example)\n",
        "\n",
        "So far, we have used all of our features in the dataset for wine quality classification. However, as you noticed during EDA in Part 1, not all features are equally important. We can compute the **feature importance** for all our features. \n",
        "\n",
        "Feature importance refers to techniques that assign a score to input features based on how useful they are at predicting a target variable. There are many types and sources of feature importance scores. Popular examples include statistical correlation scores, coefficients calculated as part of linear models and decision trees, and permutation importance scores. See [this blog post](https://machinelearningmastery.com/calculate-feature-importance-with-python/) for more information and how to compute feature importance metrics in scikit-learn. \n",
        "\n",
        "In this example, we are going to use the function `compute_feature_importances()` by the `DecisionTreeClassifier()`. The higher the score, the more important the feature."
      ]
    },
    {
      "cell_type": "code",
      "metadata": {
        "tags": [],
        "cell_id": "00060-4eb6f5bf-12ed-4158-a230-ca97b69a42a7",
        "deepnote_to_be_reexecuted": false,
        "source_hash": "3aef2c37",
        "execution_millis": 1,
        "execution_start": 1615167785548,
        "deepnote_cell_type": "code",
        "id": "sjw7S70RjE6E"
      },
      "source": [
        "# Fit a new decision tree classifier\n",
        "dt_clf = DecisionTreeClassifier(random_state=10, max_depth=5)\n",
        "dt_clf.fit(X, Y)\n",
        "\n",
        "# Capture the feature importance scores returned by compute_feature_importances()\n",
        "feat_importance = dt_clf.tree_.compute_feature_importances()"
      ],
      "execution_count": null,
      "outputs": []
    },
    {
      "cell_type": "code",
      "metadata": {
        "tags": [],
        "cell_id": "00061-85103cf3-9d70-4920-8552-e7d372a89de6",
        "deepnote_to_be_reexecuted": false,
        "source_hash": "d1434871",
        "execution_millis": 259,
        "execution_start": 1615167788097,
        "deepnote_cell_type": "code",
        "colab": {
          "base_uri": "https://localhost:8080/",
          "height": 410
        },
        "id": "W5I7G8SwjE6E",
        "outputId": "d0bee790-04c0-44b0-beba-ca77b77c21f6"
      },
      "source": [
        "# Create a dataframe to tabulate the importance scores for each of our features\n",
        "df_imp = pd.DataFrame({'feature_importance':feat_importance, 'feature_names': X.columns}).sort_values('feature_importance',ascending=False)\n",
        "\n",
        "# Plot them in a bar chart\n",
        "fig, ax = plt.subplots(figsize=(9,6))\n",
        "sns.barplot(y='feature_names', x='feature_importance',data=df_imp, orient='h',ax=ax);\n",
        "ax.set_title('Feature Importance - Decision Tree');\n"
      ],
      "execution_count": null,
      "outputs": [
        {
          "output_type": "display_data",
          "data": {
            "image/png": "[encoded data removed]",
            "text/plain": [
              "<Figure size 648x432 with 1 Axes>"
            ]
          },
          "metadata": {
            "tags": [],
            "needs_background": "light"
          }
        }
      ]
    },
    {
      "cell_type": "markdown",
      "metadata": {
        "tags": [],
        "cell_id": "00062-59ef7fea-c09e-4ff1-b444-aca55a21a8a8",
        "deepnote_cell_type": "markdown",
        "id": "IUe5c8iwjE6E"
      },
      "source": [
        "**Q** Which features are most important for the classification of wine quality using a decision tree model?\n",
        "\n",
        "**A** "
      ]
    },
    {
      "cell_type": "markdown",
      "metadata": {
        "tags": [],
        "cell_id": "00052-c580dfeb-c6a2-42d5-baff-2870aabaeef3",
        "deepnote_cell_type": "markdown",
        "id": "RceW7yvZjE6E"
      },
      "source": [
        "## Visualizing Decision Boundaries\n",
        "\n",
        "Lastly, we may want to get a better handle on what our decision boundaries look like. Unfortunately, using all of our eight features means that the decision boundary lives in an eight-dimensional hyperspace. To visualize higher-dimensional spaces we would need a dimensionality reduction method to project the samples into 2D. This could be done in scikit-learn using a linear method such as [PCA](https://scikit-learn.org/stable/modules/generated/sklearn.decomposition.PCA.html?highlight=pca#sklearn.decomposition.PCA) or a non-linear method such as [Isomap](https://scikit-learn.org/stable/modules/generated/sklearn.manifold.Isomap.html).\n",
        "\n",
        "Instead of using dimensionality reduction, we will train a new decision tree on the `alcohol` and `sulphates` features. We can then visualize the decision boundary in that two-dimensional feature space. "
      ]
    },
    {
      "cell_type": "code",
      "metadata": {
        "tags": [],
        "cell_id": "00052-17c24ccc-0dff-4e7a-9060-5fd52feda563",
        "deepnote_to_be_reexecuted": false,
        "source_hash": "8e702adf",
        "execution_millis": 1,
        "execution_start": 1615167792836,
        "deepnote_cell_type": "code",
        "id": "SccjV_ybjE6F"
      },
      "source": [
        "# We first define the plotting function for decision boundaries for the wine data\n",
        "def plot_wine_2d_boundaries(X_data, y_data, predictors, model, xx_1, xx_2):\n",
        "    \"\"\"Plots 2-dimensional decision boundaries for a fitted sklearn model\n",
        "    \n",
        "    :param X_data: pd.DataFrame object containing your predictor variables\n",
        "    :param y_data: pd.Series object containing your response variable\n",
        "    :param predictors: list of predictor names corresponding with X_data columns\n",
        "    :param model: sklearn fitted model object\n",
        "    :param xx_1: np.array object of 2-dimensions, generated using np.meshgrid\n",
        "    :param xx_2: np.array object of 2-dimensions, generated using np.meshgrid\n",
        "    \"\"\"\n",
        "\n",
        "    def plot_points(ax):\n",
        "        for i, y_class in enumerate(set(y_data.flatten())):\n",
        "            index = (y_data == y_class)\n",
        "            ax.scatter(\n",
        "                X_data[index][predictors[0]],\n",
        "                X_data[index][predictors[1]],\n",
        "                c=colors[i],\n",
        "                marker=markers[i],\n",
        "                s=65, \n",
        "                edgecolor='w',\n",
        "                label=\"class {}\".format(i),\n",
        "            )\n",
        "    colors = [\"tab:blue\", \"tab:orange\"] # Add more colors for more than 2 classes here\n",
        "    markers = [\"s\", \"o\", \"D\"]\n",
        "\n",
        "    # Plotting decision regions\n",
        "    f, ax = plt.subplots(1, 1, figsize=(7, 6))\n",
        "\n",
        "    X_mesh = np.stack((xx_1.ravel(), xx_2.ravel()), axis=1)\n",
        "\n",
        "    Z = model.predict_proba(X_mesh)[:,1]\n",
        "    Z = Z.reshape(xx_1.shape)\n",
        "\n",
        "    ax.contourf(xx_1, xx_2, Z, alpha=0.3, colors=colors, levels=2)\n",
        "\n",
        "    plot_points(ax)\n",
        "\n",
        "    ax.legend(bbox_to_anchor=(1, 1), loc='upper left', ncol=1)\n",
        "\n",
        "    ax.set_title(\n",
        "        'Wine  class prediction\\nDecision boundaries',\n",
        "        fontsize=16\n",
        "    )\n",
        "    ax.set_xlabel(predictors[0], fontsize=12)\n",
        "    ax.set_ylabel(predictors[1], fontsize=12)\n",
        "\n",
        "    plt.tight_layout()\n",
        "    plt.show()"
      ],
      "execution_count": null,
      "outputs": []
    },
    {
      "cell_type": "code",
      "metadata": {
        "tags": [],
        "cell_id": "00054-52cf8966-69af-4f6c-9031-279552041aa8",
        "deepnote_to_be_reexecuted": false,
        "source_hash": "b5f62a1a",
        "execution_millis": 499,
        "execution_start": 1615168037138,
        "deepnote_cell_type": "code",
        "colab": {
          "base_uri": "https://localhost:8080/",
          "height": 441
        },
        "id": "pTRHdM2_jE6F",
        "outputId": "b0593f52-d94f-4575-e916-bed9319861ec"
      },
      "source": [
        "# Model fit on just two features - alcohol, sulphates - since we can only \n",
        "# visualize two features in the 2D plot\n",
        "predictors = ['alcohol','sulphates']  \n",
        "\n",
        "# You will explore different models by uncommenting one of these lines\n",
        "model1 = DecisionTreeClassifier(max_depth=3, random_state=10).fit(X[predictors],Y)   \n",
        "# model1 = SVC(kernel='rbf', C=10, probability=1, random_state=10).fit(X[predictors], Y)  \n",
        "# model1 = LogisticRegression(C=10000, random_state=10).fit(X[predictors],Y)   \n",
        "\n",
        "# Identify appropriate boundaries for our meshgrid by\n",
        "# referencing the actual wine data\n",
        "x_1_wine = X['alcohol']     \n",
        "x_2_wine = X['sulphates']  \n",
        "alpha = 0.01 #0.1\n",
        "x_1_min_wine, x_1_max_wine = x_1_wine.min() - alpha, x_1_wine.max() + alpha\n",
        "x_2_min_wine, x_2_max_wine = x_2_wine.min() - alpha, x_2_wine.max() + alpha\n",
        "\n",
        "# Use np.arange to generate our interval arrays\n",
        "# and np.meshgrid to generate our actual grids\n",
        "xx_1_wine, xx_2_wine = np.meshgrid(\n",
        "    np.arange(x_1_min_wine, x_1_max_wine, 0.003),\n",
        "    np.arange(x_2_min_wine, x_2_max_wine, 0.003)\n",
        ")\n",
        "\n",
        "# Now we have everything we need to generate our plot\n",
        "plot_wine_2d_boundaries(\n",
        "    X,  \n",
        "    Y,\n",
        "    predictors,\n",
        "    model1,\n",
        "    xx_1_wine,\n",
        "    xx_2_wine,\n",
        ")"
      ],
      "execution_count": null,
      "outputs": [
        {
          "output_type": "display_data",
          "data": {
            "image/png": "[encoded data removed]",
            "text/plain": [
              "<Figure size 504x432 with 1 Axes>"
            ]
          },
          "metadata": {
            "tags": [],
            "needs_background": "light"
          }
        }
      ]
    },
    {
      "cell_type": "markdown",
      "metadata": {
        "tags": [],
        "cell_id": "00072-4f3491a8-5ed4-401e-8b06-3ad7eefbc717",
        "deepnote_cell_type": "markdown",
        "id": "UpJqZYBZjE6F"
      },
      "source": [
        "**Q** Change the model from decision tree to KNN, SVM, and logistic regression by uncommenting code in lines 6-9 above. For each model, change the models hyperparameters to find values that create optimal decision boundaries. Note that each run may take some time for the SVM model. \n",
        "\n",
        "Save the images of the optimal decision boundaries for each model and put them in your solutions document. Label each with the name of the model and the optimal hyperparameters. Below each plot describe why you chose these particular hyperparameter values.\n",
        "\n",
        "**A** Put your answers into a solutions Google doc."
      ]
    },
    {
      "cell_type": "markdown",
      "metadata": {
        "tags": [],
        "cell_id": "00073-526befe3-464d-4ce1-899e-1f15938d6c1b",
        "deepnote_cell_type": "markdown",
        "id": "393u2n8djE6F"
      },
      "source": [
        "-----\n",
        "**Q** Looking at these decision boundaries, which model is optimal, and why?\n",
        "\n",
        "**A** "
      ]
    },
    {
      "cell_type": "markdown",
      "metadata": {
        "tags": [],
        "cell_id": "00074-20ba6633-419b-4901-a8c5-cf52c8de010a",
        "deepnote_cell_type": "markdown",
        "id": "N-7wVZqOjE6F"
      },
      "source": [
        "---\n",
        "**Please make sure to finish all of the parts above before you change to imbalanced data in the next section.** "
      ]
    },
    {
      "cell_type": "markdown",
      "metadata": {
        "tags": [],
        "cell_id": "00014-d298f61d-566a-4d3f-aba1-77dd92d0bf35",
        "deepnote_cell_type": "markdown",
        "id": "dGxRZfePjE6F"
      },
      "source": [
        "## Balanced vs. Imbalanced Data\n",
        "\n",
        "To demonstrate the difference between error metrics you will re-run these measures for imbalanced training and test data with more negative examples (class 0). In your solutions Google doc, collect all of the error metrics (accuracy, F1) and plots (confusion matrix, ROC curves, P-R curves) for the different classification models **before and after** making the data imbalanced by following these steps:\n",
        "\n",
        "**Before:** Create a title called \"Before Data Imbalance\" in your Google doc.\n",
        "- Go back to the \"Binary Classification\" at the beginning of the notebook \n",
        "- Capture the ratio of negative (class 0) to positive (class 1) examples in your Google doc\n",
        "- Capture the error metrics and plots in your Google doc. You already did this for the \"Effects of Optimal Hyperparameter\" exercise above. Copy those results here for easier comparison.  \n",
        "\n",
        "**After:** Create a title called \"After Data Imbalance\" in your Google doc.\n",
        "- Go back to \"COME BACK HERE\" in the \"Binary Classification\" section at the beginning of the notebook.\n",
        "- Change the binary classification to make the dataset imbalanced.\n",
        "- Capture the ratio of negative (class 0) to positive (class 1) examples in your Google doc\n",
        "- Re-run the code to train each model in \"Basic ML Models\"\n",
        "- Re-run the \"Model Error Metrics\" part of the notebook and capture the new error metrics and plots in your Google doc\n",
        "\n",
        "How did the error metrics and plots change for each model? Describe the changes in a short paragraph in your Google doc. It may be easier to put the respective plots next to each other for comparison. Make sure to clearly label everything.\n",
        "\n",
        "**A** Put your answers into a solutions Google doc."
      ]
    },
    {
      "cell_type": "markdown",
      "metadata": {
        "tags": [],
        "cell_id": "00046-b835533c-9fd1-45ed-9adf-7a0c81f0a51b",
        "deepnote_cell_type": "markdown",
        "id": "kWZR7RmAjE6F"
      },
      "source": [
        "___\n",
        "**Q** Which error metrics perform better in showing the difference between balanced and imbalanced classes? Which ones do not show a difference? \n",
        "\n",
        "**A** "
      ]
    },
    {
      "cell_type": "markdown",
      "metadata": {
        "tags": [],
        "cell_id": "00081-780bd238-87aa-42f7-b71f-cb8c15c7bfa5",
        "deepnote_cell_type": "markdown",
        "id": "aXv6hWpdjE6G"
      },
      "source": [
        "---\n",
        "**Q** Based on this example, why does imbalanced data pose a danger for machine learning models?\n",
        "\n",
        "**A** "
      ]
    },
    {
      "cell_type": "markdown",
      "metadata": {
        "tags": [],
        "cell_id": "00081-55e656d6-46d7-4d3a-940a-fa38522e3a15",
        "deepnote_cell_type": "markdown",
        "id": "UwO4cJHzjE6G"
      },
      "source": [
        "## Handling Imbalanced Data\n",
        "\n",
        "Since it happens quite often that the minority class has much less data (e.g., in health care applications) we need to know how to handle imbalanced data. We are going to continue with our example of imbalanced data between good quality (class 1) wines and the rest (class 0), so make sure you completed the previous exercise to create imbalanced data and rerunning the code cells. "
      ]
    },
    {
      "cell_type": "markdown",
      "metadata": {
        "tags": [],
        "cell_id": "00082-a504877b-c3a6-4f5e-90ca-3572336822e5",
        "deepnote_cell_type": "markdown",
        "id": "FLGKrrZijE6G"
      },
      "source": [
        "### Penalized SVM\n",
        "\n",
        "The first approach is to use a **penalized** model that uses penalized learning algorithms to increase the cost of classification mistakes on the minority class. We will use penalized SVM, a popular algorithm for this technique, that uses class weights to penalize the majority class."
      ]
    },
    {
      "cell_type": "code",
      "metadata": {
        "tags": [],
        "cell_id": "00082-c755aeb5-a29a-4815-a401-b48820cd435c",
        "deepnote_to_be_reexecuted": false,
        "source_hash": "c29245aa",
        "execution_millis": 240,
        "execution_start": 1615166739380,
        "deepnote_cell_type": "code",
        "colab": {
          "base_uri": "https://localhost:8080/"
        },
        "id": "cv8eOYAwjE6G",
        "outputId": "d88e40b2-7ed0-47c2-9bb8-4a8c298c330e"
      },
      "source": [
        "# From Part 1\n",
        "# Creating the SVM model\n",
        "# We are setting probability=True for the model to predict probabilites (this was not in part 1)\n",
        "# Note the hyperparameters 'kernel' and 'C' - we will come back to these later\n",
        "# class_weight is the parameter that helps with class imbalance \n",
        "svc_clf = SVC( kernel='rbf', random_state=10, C=1.0, probability=True, class_weight='balanced') \n",
        "\n",
        "# Fitting the model to the data (i.e., training the model)\n",
        "svc_clf.fit(X_train_s, y_train) \n",
        "\n",
        "# Predictions on the test set\n",
        "svc_preds = svc_clf.predict(X_test_s)\n",
        "\n",
        "# Predict probabilities on the test set\n",
        "# Predicted probabilites are required for plotting ROC AUC curve\n",
        "svc_preds_prob = svc_clf.predict_proba(X_test_s)\n",
        "\n",
        "print(color.BLUE + '\\nPenalized SVM: ')\n",
        "print(\"Accuracy:\", accuracy_score(y_test,svc_preds))\n",
        "print(\"F1-Score: {0:0.5f}\".format(f1_score(y_test,svc_preds)))\n"
      ],
      "execution_count": null,
      "outputs": [
        {
          "output_type": "stream",
          "text": [
            "\u001b[94m\n",
            "Penalized SVM: \n",
            "Accuracy: 0.765625\n",
            "F1-Score: 0.78134\n"
          ],
          "name": "stdout"
        }
      ]
    },
    {
      "cell_type": "markdown",
      "metadata": {
        "tags": [],
        "cell_id": "00084-c10f85fb-6636-4c78-a965-ac9b8e00231f",
        "deepnote_cell_type": "markdown",
        "id": "zfGzcrFZjE6G"
      },
      "source": [
        "**Q** What are the different accuracy and F1 scores for the SVM model with and without class weights ? \n",
        "\n",
        "**A** "
      ]
    },
    {
      "cell_type": "markdown",
      "metadata": {
        "tags": [],
        "cell_id": "00085-ac16226b-f643-42cd-8f9f-f4152b2243e2",
        "deepnote_cell_type": "markdown",
        "id": "7HAc5myAjE6G"
      },
      "source": [
        "### Minority Upsampling\n",
        "\n",
        "Our second, more general approach is to balance our data using upsampling of the minority class. **Upsampling** is the process of randomly duplicating observations from a class in order to reinforce its signal. There are several heuristics for doing so, but the most common way is to simply resample with replacement. "
      ]
    },
    {
      "cell_type": "code",
      "metadata": {
        "tags": [],
        "cell_id": "00085-77ca085b-b28a-4e55-9f39-a46f02138fd0",
        "deepnote_to_be_reexecuted": false,
        "source_hash": "7483172",
        "execution_millis": 22,
        "execution_start": 1615167170035,
        "deepnote_cell_type": "code",
        "colab": {
          "base_uri": "https://localhost:8080/"
        },
        "id": "sXGQHk8-jE6G",
        "outputId": "23227795-8916-4185-c03b-ad0ced106381"
      },
      "source": [
        "# We first upsample our minority class\n",
        "from sklearn.utils import resample\n",
        "\n",
        "# Separate majority and minority classes\n",
        "X['target'] = Y\n",
        "df_majority = X[Y==0]\n",
        "df_minority = X[Y==1]\n",
        "\n",
        "print(\"Current Ratio:\\n\", pd.Series(Y).value_counts())\n",
        "\n",
        "print(\"\\nMajority and Minority Dataframe shapes: \",df_majority.shape, df_minority.shape, \"\\n\")\n",
        "\n",
        "# Upsample minority class\n",
        "df_minority_upsampled = resample(df_minority, \n",
        "                                 replace=True,     # sample with replacement\n",
        "                                 n_samples=df_majority.shape[0],    # to match majority class\n",
        "                                 random_state=123) # reproducible results\n",
        "\n",
        "# Combine majority class with upsampled minority class\n",
        "df_upsampled = pd.concat([df_majority, df_minority_upsampled])\n",
        "\n",
        "print(\"New ratio:\\n\",df_upsampled.target.value_counts())"
      ],
      "execution_count": null,
      "outputs": [
        {
          "output_type": "stream",
          "text": [
            "Current Ratio:\n",
            " 1    855\n",
            "0    744\n",
            "dtype: int64\n",
            "\n",
            "Majority and Minority Dataframe shapes:  (744, 12) (855, 12) \n",
            "\n",
            "New ratio:\n",
            " 1    744\n",
            "0    744\n",
            "Name: target, dtype: int64\n"
          ],
          "name": "stdout"
        }
      ]
    },
    {
      "cell_type": "code",
      "metadata": {
        "tags": [],
        "cell_id": "00087-c177704c-9005-4d49-9d7e-c5b4c893e5dd",
        "deepnote_to_be_reexecuted": false,
        "source_hash": "12e99a46",
        "execution_millis": 1,
        "execution_start": 1615167172313,
        "deepnote_cell_type": "code",
        "id": "IDYpImZ-jE6G"
      },
      "source": [
        "\n",
        "target_upsampled = df_upsampled['target']\n",
        "df_upsampled.drop('target', axis=1, inplace=True)"
      ],
      "execution_count": null,
      "outputs": []
    },
    {
      "cell_type": "code",
      "metadata": {
        "tags": [],
        "cell_id": "00087-1f2fbd1e-15a7-49f8-887d-debfc16f2f8b",
        "deepnote_to_be_reexecuted": false,
        "source_hash": "9a24c825",
        "execution_millis": 5,
        "execution_start": 1615167205713,
        "deepnote_cell_type": "code",
        "id": "tVGL2mCBjE6G"
      },
      "source": [
        "# From Part 1 - Standardize the data\n",
        "# Split data into train (80%) and test (20%) sets.\n",
        "# random_state: Controls the shuffling applied to the data before applying the split. \n",
        "#              Pass an int for reproducible output across multiple function calls.\n",
        "X_train_upsampled, X_test_upsampled, y_train_upsampled, y_test_upsampled = train_test_split(df_upsampled, target_upsampled,\n",
        "                                                    test_size=0.2,\n",
        "                                                    random_state=10)\n",
        "\n",
        "\n",
        "# Standardize the features\n",
        "\n",
        "# We standardize training and test data separately to avoid information leakage between them\n",
        "# Also note we do not standardize the predicted value `quality`, just the features\n",
        "scaler = StandardScaler()\n",
        "X_train_upsampled_std = scaler.fit_transform(X_train_upsampled)\n",
        "X_test_upsampled_std = scaler.transform(X_test_upsampled)\n",
        "\n",
        "# sklearn StandardScaler() returns Numpy arrays. That means your column names are gone. \n",
        "# If we want to preserve the column names we need to convert the array back to a Pandas dataframe and add the column names. \n",
        "X_train_upsampled_std = pd.DataFrame(X_train_upsampled_std,columns=df_upsampled.columns)\n",
        "X_test_upsampled_std = pd.DataFrame(X_test_upsampled_std,columns=df_upsampled.columns)"
      ],
      "execution_count": null,
      "outputs": []
    },
    {
      "cell_type": "code",
      "metadata": {
        "tags": [],
        "cell_id": "00087-d1839736-8db5-432b-9cea-4e3bf846743c",
        "deepnote_to_be_reexecuted": false,
        "source_hash": "a0dd2ea8",
        "execution_millis": 740,
        "execution_start": 1615167241982,
        "deepnote_cell_type": "code",
        "colab": {
          "base_uri": "https://localhost:8080/"
        },
        "id": "S8A5uyv_jE6H",
        "outputId": "3511c00b-f55c-4cd8-f6b9-25e863fd0125"
      },
      "source": [
        "# Now we are going to use the the df_upsampled dataset to create the SVM model \n",
        "svc_clf = SVC( kernel='rbf', random_state=10, C=1.0, probability=True, class_weight='balanced') \n",
        "\n",
        "# Fitting the model to the data (i.e., training the model)\n",
        "svc_clf.fit(X_train_upsampled_std, y_train_upsampled) \n",
        "\n",
        "# Predictions on the test set\n",
        "svc_preds = svc_clf.predict(X_test_upsampled_std)\n",
        "\n",
        "# Predict probabilities on the test set\n",
        "# Predicted probabilites are required for plotting ROC AUC curve\n",
        "svc_preds_prob = svc_clf.predict_proba(X_test_upsampled_std)\n",
        "\n",
        "print(color.BLUE + '\\nSupport Vector Machine: ')\n",
        "print(\"Accuracy:\", accuracy_score(y_test_upsampled,svc_preds))\n",
        "\n",
        "#SVM with no class weight results - accuracy \n",
        "#Support Vector Machine: \n",
        "#Accuracy: 0.871875\n",
        "\n",
        "#SVM with no class weight - f1 score\n",
        "print(color.BLUE + '\\nSupport Vector Machine: ')\n",
        "print(\"F1-Score: {0:0.5f}\".format(f1_score(y_test_upsampled,svc_preds)))\n",
        "\n",
        "# Support Vector Machine: \n",
        "# F1-Score: 0.38806"
      ],
      "execution_count": null,
      "outputs": [
        {
          "output_type": "stream",
          "text": [
            "\u001b[94m\n",
            "Support Vector Machine: \n",
            "Accuracy: 0.7718120805369127\n",
            "\u001b[94m\n",
            "Support Vector Machine: \n",
            "F1-Score: 0.77181\n"
          ],
          "name": "stdout"
        }
      ]
    },
    {
      "cell_type": "markdown",
      "metadata": {
        "tags": [],
        "cell_id": "00088-d1ca579c-8183-447c-9e4c-0388f7a95ca1",
        "deepnote_cell_type": "markdown",
        "id": "Xw62RdVZjE6H"
      },
      "source": [
        "**Q** Summarize the accuracy and F1 score results here and discuss what method to deal with the imbalanced data worked best.\n",
        "\n",
        "**A** "
      ]
    },
    {
      "cell_type": "markdown",
      "metadata": {
        "id": "V-XNgTGlvWUI"
      },
      "source": [
        "---\n",
        "\n",
        "Congratulations, you have made it to the end of this notebook. This concludes our wine classification example. We hope it was instructive and that you learned some valuable lessons for your final projects. Do not hesitate to ask questions about the code on EdStem or in TF office hours."
      ]
    }
  ]
}